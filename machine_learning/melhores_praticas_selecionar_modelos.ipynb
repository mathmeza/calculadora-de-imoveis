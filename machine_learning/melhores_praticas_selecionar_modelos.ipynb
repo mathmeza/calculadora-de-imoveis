{
  "nbformat": 4,
  "nbformat_minor": 0,
  "metadata": {
    "colab": {
      "name": "Cópia de selecionando_modelos.ipynb",
      "provenance": [],
      "collapsed_sections": []
    },
    "kernelspec": {
      "display_name": "Python 3",
      "language": "python",
      "name": "python3"
    },
    "language_info": {
      "codemirror_mode": {
        "name": "ipython",
        "version": 3
      },
      "file_extension": ".py",
      "mimetype": "text/x-python",
      "name": "python",
      "nbconvert_exporter": "python",
      "pygments_lexer": "ipython3",
      "version": "3.8.4"
    }
  },
  "cells": [
    {
      "cell_type": "markdown",
      "metadata": {
        "id": "gFzQV1py16_j"
      },
      "source": [
        "## 3. Machine Learning"
      ]
    },
    {
      "cell_type": "markdown",
      "metadata": {
        "id": "7emCkyBA9CI2"
      },
      "source": [
        "### 3.1 Importando dados preprocessados"
      ]
    },
    {
      "cell_type": "code",
      "metadata": {
        "id": "bt3Yh07N9IJ_"
      },
      "source": [
        "import pandas as pd\n",
        "\n",
        "treino = pd.read_csv('https://raw.githubusercontent.com/mathmeza/calculadora-de-imoveis/main/analise_e_preprocessamento/treino_preprocessado.csv')\n",
        "teste = pd.read_csv('https://raw.githubusercontent.com/mathmeza/calculadora-de-imoveis/main/analise_e_preprocessamento/teste_preprocessado.csv')"
      ],
      "execution_count": 1,
      "outputs": []
    },
    {
      "cell_type": "code",
      "metadata": {
        "id": "8el-AeKV9INq"
      },
      "source": [
        "# dividindo os dados de treino e teste (X e y)\n",
        "\n",
        "X_train = treino.drop('preco', axis=1)\n",
        "y_train = treino['preco']\n",
        "X_test = teste.drop('preco', axis=1)\n",
        "y_test = teste['preco']"
      ],
      "execution_count": 2,
      "outputs": []
    },
    {
      "cell_type": "markdown",
      "metadata": {
        "id": "EhEkmbXmRD4F"
      },
      "source": [
        "### 3.2 Criando um modelo de base para comparar os resultados (baseline) "
      ]
    },
    {
      "cell_type": "code",
      "metadata": {
        "id": "pWm_9peL18_t",
        "colab": {
          "base_uri": "https://localhost:8080/"
        },
        "outputId": "deacad47-3638-43e9-cc8b-2004c1181dcd"
      },
      "source": [
        "from sklearn.linear_model import LinearRegression\n",
        "\n",
        "lr = LinearRegression()\n",
        "lr.fit(X_train, y_train)\n",
        "lr.score(X_test, y_test)"
      ],
      "execution_count": 3,
      "outputs": [
        {
          "output_type": "execute_result",
          "data": {
            "text/plain": [
              "0.7569199963876833"
            ]
          },
          "metadata": {
            "tags": []
          },
          "execution_count": 3
        }
      ]
    },
    {
      "cell_type": "code",
      "metadata": {
        "id": "IDt3P5NYSTBb",
        "colab": {
          "base_uri": "https://localhost:8080/"
        },
        "outputId": "95ff72ac-001d-4a86-9f8b-bd446094f381"
      },
      "source": [
        "from sklearn.dummy import DummyRegressor\n",
        "\n",
        "reg = DummyRegressor(strategy='mean')\n",
        "reg.fit(X_train, y_train)\n",
        "reg.score(X_test, y_test)"
      ],
      "execution_count": 4,
      "outputs": [
        {
          "output_type": "execute_result",
          "data": {
            "text/plain": [
              "-0.00019786408720778859"
            ]
          },
          "metadata": {
            "tags": []
          },
          "execution_count": 4
        }
      ]
    },
    {
      "cell_type": "markdown",
      "metadata": {
        "id": "QsHKsNbaSDPM"
      },
      "source": [
        "### 3.3 Comparando diferentes modelos de regressão (estimadores)"
      ]
    },
    {
      "cell_type": "code",
      "metadata": {
        "id": "uDpvo7Fs193_",
        "colab": {
          "base_uri": "https://localhost:8080/",
          "height": 35
        },
        "outputId": "1e62f87d-a355-4937-e6c9-f5919e6770da"
      },
      "source": [
        "from sklearn.linear_model import RidgeCV, Lasso, ElasticNet, LassoLars, HuberRegressor\n",
        "from sklearn.svm import SVR\n",
        "from sklearn.neighbors import KNeighborsRegressor\n",
        "from sklearn.ensemble import GradientBoostingRegressor, AdaBoostRegressor\n",
        "from sklearn.neural_network import MLPRegressor\n",
        "from sklearn.ensemble import RandomForestRegressor\n",
        "# se quiser, instalar e usar LGBM e XGBoost de fora do sklearn\n",
        "'''\n",
        "from lightgbm import LGBMRegressor\n",
        "from xgboost import XGBRegressor\n",
        "'''"
      ],
      "execution_count": 5,
      "outputs": [
        {
          "output_type": "execute_result",
          "data": {
            "application/vnd.google.colaboratory.intrinsic+json": {
              "type": "string"
            },
            "text/plain": [
              "'\\nfrom lightgbm import LGBMRegressor\\nfrom xgboost import XGBRegressor\\n'"
            ]
          },
          "metadata": {
            "tags": []
          },
          "execution_count": 5
        }
      ]
    },
    {
      "cell_type": "code",
      "metadata": {
        "id": "zE6jqA7019w8"
      },
      "source": [
        "reg_list = [RidgeCV(),\n",
        "            SVR(),\n",
        "            KNeighborsRegressor(),\n",
        "            RandomForestRegressor(),\n",
        "            AdaBoostRegressor(),\n",
        "            GradientBoostingRegressor(),\n",
        "            MLPRegressor(),\n",
        "            # LGBMRegressor(), \n",
        "            # XGBRegressor(objective='reg:squarederror')\n",
        "            ]"
      ],
      "execution_count": 6,
      "outputs": []
    },
    {
      "cell_type": "code",
      "metadata": {
        "id": "_s-gvXW1Tc8a",
        "colab": {
          "base_uri": "https://localhost:8080/"
        },
        "outputId": "7aec6dc8-4509-405d-f1f6-58aac65fe513"
      },
      "source": [
        "from sklearn.model_selection import cross_val_score\n",
        "import numpy as np\n",
        "\n",
        "for reg in reg_list:\n",
        "    print(f'Treinando o modelo {reg.__class__.__name__}')\n",
        "    reg.fit(X_train, y_train)\n",
        "    \n",
        "    train_score = reg.score(X_train, y_train)\n",
        "    cv_scores = cross_val_score(reg, X_train, y_train)\n",
        "    test_score = reg.score(X_test, y_test)\n",
        "    \n",
        "    print(f\"R² treino: {train_score}\")\n",
        "    print(f\"R² validação : {np.mean(cv_scores):.2f} +- {np.std(cv_scores):.2f}\")\n",
        "    print(f\"R² teste: {test_score}\")\n",
        "    print('-'*70)"
      ],
      "execution_count": 7,
      "outputs": [
        {
          "output_type": "stream",
          "text": [
            "Treinando o modelo RidgeCV\n",
            "R² treino: 0.77912097297986\n",
            "R² validação : 0.77 +- 0.02\n",
            "R² teste: 0.7592216188739551\n",
            "----------------------------------------------------------------------\n",
            "Treinando o modelo SVR\n",
            "R² treino: 0.8146678006919513\n",
            "R² validação : 0.80 +- 0.03\n",
            "R² teste: 0.7810969464471332\n",
            "----------------------------------------------------------------------\n",
            "Treinando o modelo KNeighborsRegressor\n",
            "R² treino: 0.8641699641573783\n",
            "R² validação : 0.79 +- 0.04\n",
            "R² teste: 0.7632908247548867\n",
            "----------------------------------------------------------------------\n",
            "Treinando o modelo RandomForestRegressor\n",
            "R² treino: 0.940439737028946\n",
            "R² validação : 0.78 +- 0.05\n",
            "R² teste: 0.7303831905852619\n",
            "----------------------------------------------------------------------\n",
            "Treinando o modelo AdaBoostRegressor\n",
            "R² treino: 0.836552902478224\n",
            "R² validação : 0.77 +- 0.03\n",
            "R² teste: 0.7521675986007754\n",
            "----------------------------------------------------------------------\n",
            "Treinando o modelo GradientBoostingRegressor\n",
            "R² treino: 0.8929099573291337\n",
            "R² validação : 0.81 +- 0.05\n",
            "R² teste: 0.7416953152906252\n",
            "----------------------------------------------------------------------\n",
            "Treinando o modelo MLPRegressor\n"
          ],
          "name": "stdout"
        },
        {
          "output_type": "stream",
          "text": [
            "/usr/local/lib/python3.7/dist-packages/sklearn/neural_network/_multilayer_perceptron.py:571: ConvergenceWarning: Stochastic Optimizer: Maximum iterations (200) reached and the optimization hasn't converged yet.\n",
            "  % self.max_iter, ConvergenceWarning)\n",
            "/usr/local/lib/python3.7/dist-packages/sklearn/neural_network/_multilayer_perceptron.py:571: ConvergenceWarning: Stochastic Optimizer: Maximum iterations (200) reached and the optimization hasn't converged yet.\n",
            "  % self.max_iter, ConvergenceWarning)\n",
            "/usr/local/lib/python3.7/dist-packages/sklearn/neural_network/_multilayer_perceptron.py:571: ConvergenceWarning: Stochastic Optimizer: Maximum iterations (200) reached and the optimization hasn't converged yet.\n",
            "  % self.max_iter, ConvergenceWarning)\n",
            "/usr/local/lib/python3.7/dist-packages/sklearn/neural_network/_multilayer_perceptron.py:571: ConvergenceWarning: Stochastic Optimizer: Maximum iterations (200) reached and the optimization hasn't converged yet.\n",
            "  % self.max_iter, ConvergenceWarning)\n",
            "/usr/local/lib/python3.7/dist-packages/sklearn/neural_network/_multilayer_perceptron.py:571: ConvergenceWarning: Stochastic Optimizer: Maximum iterations (200) reached and the optimization hasn't converged yet.\n",
            "  % self.max_iter, ConvergenceWarning)\n"
          ],
          "name": "stderr"
        },
        {
          "output_type": "stream",
          "text": [
            "R² treino: 0.8119131468055676\n",
            "R² validação : 0.78 +- 0.02\n",
            "R² teste: 0.7755215819869069\n",
            "----------------------------------------------------------------------\n"
          ],
          "name": "stdout"
        },
        {
          "output_type": "stream",
          "text": [
            "/usr/local/lib/python3.7/dist-packages/sklearn/neural_network/_multilayer_perceptron.py:571: ConvergenceWarning: Stochastic Optimizer: Maximum iterations (200) reached and the optimization hasn't converged yet.\n",
            "  % self.max_iter, ConvergenceWarning)\n"
          ],
          "name": "stderr"
        }
      ]
    },
    {
      "cell_type": "code",
      "metadata": {
        "id": "7JWKZZv8Tdec"
      },
      "source": [
        "# Bonus: testando com todos os regressores do sklearn\n",
        "from sklearn.utils import all_estimators\n",
        "\n",
        "estimators = all_estimators(type_filter='regressor')\n",
        "\n",
        "relatorio = {'nome':[],\n",
        "             'train_score':[],\n",
        "             'cv_scores_mean':[],\n",
        "             'test_score':[],\n",
        "             'estimador':[]\n",
        "             }\n",
        "\n",
        "ignore_list = ['IsotonicRegression',\n",
        " 'MultiOutputRegressor',\n",
        " 'ElasticNet',\n",
        " 'MultiTaskElasticNet',\n",
        " 'MultiTaskElasticNetCV',\n",
        " 'MultiTaskLasso',\n",
        " 'MultiTaskLassoCV',\n",
        " 'RadiusNeighborsRegressor',\n",
        " 'RegressorChain',\n",
        " 'StackingRegressor',\n",
        " 'VotingRegressor']\n"
      ],
      "execution_count": 8,
      "outputs": []
    },
    {
      "cell_type": "code",
      "metadata": {
        "id": "dxMCaBxI_Vx5",
        "colab": {
          "base_uri": "https://localhost:8080/",
          "height": 35
        },
        "outputId": "ee13638c-4fef-457b-cc42-f0488ea4aeb9"
      },
      "source": [
        "# Se quiser instalar e usar LGBM e XGBoost de fora do sklearn\n",
        "'''\n",
        "estimators.extend(\n",
        "    [('LGBMRegressor', LGBMRegressor),\n",
        "     ('XGBRegressor', XGBRegressor)]\n",
        ")\n",
        "'''"
      ],
      "execution_count": 9,
      "outputs": [
        {
          "output_type": "execute_result",
          "data": {
            "application/vnd.google.colaboratory.intrinsic+json": {
              "type": "string"
            },
            "text/plain": [
              "\"\\nestimators.extend(\\n    [('LGBMRegressor', LGBMRegressor),\\n     ('XGBRegressor', XGBRegressor)]\\n)\\n\""
            ]
          },
          "metadata": {
            "tags": []
          },
          "execution_count": 9
        }
      ]
    },
    {
      "cell_type": "code",
      "metadata": {
        "id": "CApLK47B_T9u",
        "colab": {
          "base_uri": "https://localhost:8080/"
        },
        "outputId": "7c30bf2c-db64-4637-c400-2c7279b447ec"
      },
      "source": [
        "for name, RegressorClass in estimators:\n",
        "    if name not in ignore_list:\n",
        "        print(f'Treinando o modelo {name}')\n",
        "        reg = RegressorClass()\n",
        "        reg.fit(X_train, y_train)\n",
        "\n",
        "        train_score = reg.score(X_train, y_train)\n",
        "        cv_scores = cross_val_score(reg, X_train, y_train)\n",
        "        test_score = reg.score(X_test, y_test)\n",
        "\n",
        "        print(f\"R² treino: {train_score}\")\n",
        "        print(f\"R² validação: {np.mean(cv_scores):.2f} +- {np.std(cv_scores):.2f}\")\n",
        "        print(f\"R² teste: {test_score}\")\n",
        "        print('-'*70)\n",
        "\n",
        "        relatorio['nome'].append(name)\n",
        "        relatorio['train_score'].append(train_score)\n",
        "        relatorio['cv_scores_mean'].append(np.mean(cv_scores))\n",
        "        relatorio['test_score'].append(test_score)\n",
        "        relatorio['estimador'].append(reg)"
      ],
      "execution_count": 10,
      "outputs": [
        {
          "output_type": "stream",
          "text": [
            "Treinando o modelo ARDRegression\n",
            "R² treino: 0.7791000796099483\n",
            "R² validação: 0.77 +- 0.02\n",
            "R² teste: 0.7590805663269639\n",
            "----------------------------------------------------------------------\n",
            "Treinando o modelo AdaBoostRegressor\n",
            "R² treino: 0.8327619814310112\n",
            "R² validação: 0.78 +- 0.04\n",
            "R² teste: 0.757773171400327\n",
            "----------------------------------------------------------------------\n",
            "Treinando o modelo BaggingRegressor\n",
            "R² treino: 0.9389728096241663\n",
            "R² validação: 0.76 +- 0.07\n",
            "R² teste: 0.6951554658163829\n",
            "----------------------------------------------------------------------\n",
            "Treinando o modelo BayesianRidge\n",
            "R² treino: 0.7791188340969176\n",
            "R² validação: 0.77 +- 0.02\n",
            "R² teste: 0.7591969921134486\n",
            "----------------------------------------------------------------------\n",
            "Treinando o modelo CCA\n",
            "R² treino: 0.597097591074575\n",
            "R² validação: 0.58 +- 0.07\n",
            "R² teste: 0.6596563818746609\n",
            "----------------------------------------------------------------------\n",
            "Treinando o modelo DecisionTreeRegressor\n"
          ],
          "name": "stdout"
        },
        {
          "output_type": "stream",
          "text": [
            "/usr/local/lib/python3.7/dist-packages/sklearn/cross_decomposition/_pls.py:321: UserWarning: Y residual constant at iteration 1\n",
            "  warnings.warn('Y residual constant at iteration %s' % k)\n",
            "/usr/local/lib/python3.7/dist-packages/sklearn/cross_decomposition/_pls.py:321: UserWarning: Y residual constant at iteration 1\n",
            "  warnings.warn('Y residual constant at iteration %s' % k)\n",
            "/usr/local/lib/python3.7/dist-packages/sklearn/cross_decomposition/_pls.py:321: UserWarning: Y residual constant at iteration 1\n",
            "  warnings.warn('Y residual constant at iteration %s' % k)\n",
            "/usr/local/lib/python3.7/dist-packages/sklearn/cross_decomposition/_pls.py:321: UserWarning: Y residual constant at iteration 1\n",
            "  warnings.warn('Y residual constant at iteration %s' % k)\n",
            "/usr/local/lib/python3.7/dist-packages/sklearn/cross_decomposition/_pls.py:321: UserWarning: Y residual constant at iteration 1\n",
            "  warnings.warn('Y residual constant at iteration %s' % k)\n",
            "/usr/local/lib/python3.7/dist-packages/sklearn/cross_decomposition/_pls.py:321: UserWarning: Y residual constant at iteration 1\n",
            "  warnings.warn('Y residual constant at iteration %s' % k)\n"
          ],
          "name": "stderr"
        },
        {
          "output_type": "stream",
          "text": [
            "R² treino: 0.9581925890960096\n",
            "R² validação: 0.69 +- 0.06\n",
            "R² teste: 0.6473531925243742\n",
            "----------------------------------------------------------------------\n",
            "Treinando o modelo DummyRegressor\n",
            "R² treino: 0.0\n",
            "R² validação: -0.01 +- 0.01\n",
            "R² teste: -0.00019786408720778859\n",
            "----------------------------------------------------------------------\n",
            "Treinando o modelo ElasticNetCV\n",
            "R² treino: 0.7791062348382283\n",
            "R² validação: 0.77 +- 0.02\n",
            "R² teste: 0.7591149701305635\n",
            "----------------------------------------------------------------------\n",
            "Treinando o modelo ExtraTreeRegressor\n",
            "R² treino: 0.9581925890960096\n",
            "R² validação: 0.71 +- 0.07\n",
            "R² teste: 0.6589606522629096\n",
            "----------------------------------------------------------------------\n",
            "Treinando o modelo ExtraTreesRegressor\n",
            "R² treino: 0.9581925890960096\n",
            "R² validação: 0.75 +- 0.07\n",
            "R² teste: 0.7411307336517083\n",
            "----------------------------------------------------------------------\n",
            "Treinando o modelo GaussianProcessRegressor\n",
            "R² treino: 0.899271423683641\n",
            "R² validação: -19798.44 +- 20874.93\n",
            "R² teste: -412.0419410109937\n",
            "----------------------------------------------------------------------\n",
            "Treinando o modelo GradientBoostingRegressor\n",
            "R² treino: 0.8929099573291337\n",
            "R² validação: 0.81 +- 0.04\n",
            "R² teste: 0.7415308222307124\n",
            "----------------------------------------------------------------------\n",
            "Treinando o modelo HistGradientBoostingRegressor\n",
            "R² treino: 0.8795638089857352\n",
            "R² validação: 0.79 +- 0.05\n",
            "R² teste: 0.7695745608434221\n",
            "----------------------------------------------------------------------\n",
            "Treinando o modelo HuberRegressor\n",
            "R² treino: 0.7774734551647371\n",
            "R² validação: 0.77 +- 0.02\n",
            "R² teste: 0.7596264216358114\n",
            "----------------------------------------------------------------------\n",
            "Treinando o modelo KNeighborsRegressor\n",
            "R² treino: 0.8641699641573783\n",
            "R² validação: 0.79 +- 0.04\n",
            "R² teste: 0.7632908247548867\n",
            "----------------------------------------------------------------------\n",
            "Treinando o modelo KernelRidge\n",
            "R² treino: 0.7604744927420355\n",
            "R² validação: 0.74 +- 0.04\n",
            "R² teste: 0.7529750388420182\n",
            "----------------------------------------------------------------------\n",
            "Treinando o modelo Lars\n",
            "R² treino: 0.7791308035372333\n",
            "R² validação: 0.77 +- 0.02\n",
            "R² teste: 0.7594451182552163\n",
            "----------------------------------------------------------------------\n",
            "Treinando o modelo LarsCV\n",
            "R² treino: 0.7791308035372333\n",
            "R² validação: 0.77 +- 0.02\n",
            "R² teste: 0.7594451182552163\n",
            "----------------------------------------------------------------------\n",
            "Treinando o modelo Lasso\n",
            "R² treino: 0.0\n",
            "R² validação: -0.01 +- 0.01\n",
            "R² teste: -0.00019786408720778859\n",
            "----------------------------------------------------------------------\n",
            "Treinando o modelo LassoCV\n",
            "R² treino: 0.7791163607751103\n",
            "R² validação: 0.77 +- 0.02\n",
            "R² teste: 0.7592139491210191\n",
            "----------------------------------------------------------------------\n",
            "Treinando o modelo LassoLars\n",
            "R² treino: 0.0\n",
            "R² validação: -0.01 +- 0.01\n",
            "R² teste: -0.00019786408720778859\n",
            "----------------------------------------------------------------------\n",
            "Treinando o modelo LassoLarsCV\n",
            "R² treino: 0.7791308035372333\n",
            "R² validação: 0.77 +- 0.02\n",
            "R² teste: 0.7594451182552163\n",
            "----------------------------------------------------------------------\n",
            "Treinando o modelo LassoLarsIC\n",
            "R² treino: 0.7791308035372333\n",
            "R² validação: 0.77 +- 0.02\n",
            "R² teste: 0.7594451182552163\n",
            "----------------------------------------------------------------------\n",
            "Treinando o modelo LinearRegression\n",
            "R² treino: 0.7788704426559991\n",
            "R² validação: 0.77 +- 0.02\n",
            "R² teste: 0.7569199963876833\n",
            "----------------------------------------------------------------------\n",
            "Treinando o modelo LinearSVR\n"
          ],
          "name": "stdout"
        },
        {
          "output_type": "stream",
          "text": [
            "/usr/local/lib/python3.7/dist-packages/sklearn/svm/_base.py:947: ConvergenceWarning: Liblinear failed to converge, increase the number of iterations.\n",
            "  \"the number of iterations.\", ConvergenceWarning)\n",
            "/usr/local/lib/python3.7/dist-packages/sklearn/svm/_base.py:947: ConvergenceWarning: Liblinear failed to converge, increase the number of iterations.\n",
            "  \"the number of iterations.\", ConvergenceWarning)\n",
            "/usr/local/lib/python3.7/dist-packages/sklearn/svm/_base.py:947: ConvergenceWarning: Liblinear failed to converge, increase the number of iterations.\n",
            "  \"the number of iterations.\", ConvergenceWarning)\n",
            "/usr/local/lib/python3.7/dist-packages/sklearn/svm/_base.py:947: ConvergenceWarning: Liblinear failed to converge, increase the number of iterations.\n",
            "  \"the number of iterations.\", ConvergenceWarning)\n",
            "/usr/local/lib/python3.7/dist-packages/sklearn/svm/_base.py:947: ConvergenceWarning: Liblinear failed to converge, increase the number of iterations.\n",
            "  \"the number of iterations.\", ConvergenceWarning)\n",
            "/usr/local/lib/python3.7/dist-packages/sklearn/svm/_base.py:947: ConvergenceWarning: Liblinear failed to converge, increase the number of iterations.\n",
            "  \"the number of iterations.\", ConvergenceWarning)\n"
          ],
          "name": "stderr"
        },
        {
          "output_type": "stream",
          "text": [
            "R² treino: 0.774505230801657\n",
            "R² validação: 0.77 +- 0.02\n",
            "R² teste: 0.7598395401141352\n",
            "----------------------------------------------------------------------\n",
            "Treinando o modelo MLPRegressor\n"
          ],
          "name": "stdout"
        },
        {
          "output_type": "stream",
          "text": [
            "/usr/local/lib/python3.7/dist-packages/sklearn/neural_network/_multilayer_perceptron.py:571: ConvergenceWarning: Stochastic Optimizer: Maximum iterations (200) reached and the optimization hasn't converged yet.\n",
            "  % self.max_iter, ConvergenceWarning)\n",
            "/usr/local/lib/python3.7/dist-packages/sklearn/neural_network/_multilayer_perceptron.py:571: ConvergenceWarning: Stochastic Optimizer: Maximum iterations (200) reached and the optimization hasn't converged yet.\n",
            "  % self.max_iter, ConvergenceWarning)\n",
            "/usr/local/lib/python3.7/dist-packages/sklearn/neural_network/_multilayer_perceptron.py:571: ConvergenceWarning: Stochastic Optimizer: Maximum iterations (200) reached and the optimization hasn't converged yet.\n",
            "  % self.max_iter, ConvergenceWarning)\n",
            "/usr/local/lib/python3.7/dist-packages/sklearn/neural_network/_multilayer_perceptron.py:571: ConvergenceWarning: Stochastic Optimizer: Maximum iterations (200) reached and the optimization hasn't converged yet.\n",
            "  % self.max_iter, ConvergenceWarning)\n",
            "/usr/local/lib/python3.7/dist-packages/sklearn/neural_network/_multilayer_perceptron.py:571: ConvergenceWarning: Stochastic Optimizer: Maximum iterations (200) reached and the optimization hasn't converged yet.\n",
            "  % self.max_iter, ConvergenceWarning)\n",
            "/usr/local/lib/python3.7/dist-packages/sklearn/neural_network/_multilayer_perceptron.py:571: ConvergenceWarning: Stochastic Optimizer: Maximum iterations (200) reached and the optimization hasn't converged yet.\n",
            "  % self.max_iter, ConvergenceWarning)\n"
          ],
          "name": "stderr"
        },
        {
          "output_type": "stream",
          "text": [
            "R² treino: 0.809025143165431\n",
            "R² validação: 0.77 +- 0.03\n",
            "R² teste: 0.773868409371856\n",
            "----------------------------------------------------------------------\n",
            "Treinando o modelo NuSVR\n",
            "R² treino: 0.8134794716614516\n",
            "R² validação: 0.80 +- 0.03\n",
            "R² teste: 0.7792101391401871\n",
            "----------------------------------------------------------------------\n",
            "Treinando o modelo OrthogonalMatchingPursuit\n",
            "R² treino: 0.7029581364120931\n",
            "R² validação: 0.69 +- 0.03\n",
            "R² teste: 0.6593504107743812\n",
            "----------------------------------------------------------------------\n",
            "Treinando o modelo OrthogonalMatchingPursuitCV\n",
            "R² treino: 0.7791308035372333\n",
            "R² validação: 0.77 +- 0.02\n",
            "R² teste: 0.7594451182552165\n",
            "----------------------------------------------------------------------\n",
            "Treinando o modelo PLSCanonical\n",
            "R² treino: 0.41113981407952715\n",
            "R² validação: 0.39 +- 0.08\n",
            "R² teste: 0.5074603785387958\n",
            "----------------------------------------------------------------------\n",
            "Treinando o modelo PLSRegression\n",
            "R² treino: 0.7707866801545556\n",
            "R² validação: 0.76 +- 0.02\n",
            "R² teste: 0.7452978539626508\n",
            "----------------------------------------------------------------------\n",
            "Treinando o modelo PassiveAggressiveRegressor\n",
            "R² treino: 0.6296339549206962\n",
            "R² validação: 0.46 +- 0.28\n",
            "R² teste: 0.5796471223315754\n",
            "----------------------------------------------------------------------\n",
            "Treinando o modelo RANSACRegressor\n",
            "R² treino: 0.7728511817324499\n",
            "R² validação: 0.75 +- 0.02\n",
            "R² teste: 0.7503432014114374\n",
            "----------------------------------------------------------------------\n",
            "Treinando o modelo RandomForestRegressor\n"
          ],
          "name": "stdout"
        },
        {
          "output_type": "stream",
          "text": [
            "/usr/local/lib/python3.7/dist-packages/sklearn/cross_decomposition/_pls.py:321: UserWarning: Y residual constant at iteration 1\n",
            "  warnings.warn('Y residual constant at iteration %s' % k)\n",
            "/usr/local/lib/python3.7/dist-packages/sklearn/cross_decomposition/_pls.py:321: UserWarning: Y residual constant at iteration 1\n",
            "  warnings.warn('Y residual constant at iteration %s' % k)\n",
            "/usr/local/lib/python3.7/dist-packages/sklearn/cross_decomposition/_pls.py:321: UserWarning: Y residual constant at iteration 1\n",
            "  warnings.warn('Y residual constant at iteration %s' % k)\n",
            "/usr/local/lib/python3.7/dist-packages/sklearn/cross_decomposition/_pls.py:321: UserWarning: Y residual constant at iteration 1\n",
            "  warnings.warn('Y residual constant at iteration %s' % k)\n",
            "/usr/local/lib/python3.7/dist-packages/sklearn/cross_decomposition/_pls.py:321: UserWarning: Y residual constant at iteration 1\n",
            "  warnings.warn('Y residual constant at iteration %s' % k)\n",
            "/usr/local/lib/python3.7/dist-packages/sklearn/cross_decomposition/_pls.py:321: UserWarning: Y residual constant at iteration 1\n",
            "  warnings.warn('Y residual constant at iteration %s' % k)\n"
          ],
          "name": "stderr"
        },
        {
          "output_type": "stream",
          "text": [
            "R² treino: 0.9407772680030854\n",
            "R² validação: 0.78 +- 0.05\n",
            "R² teste: 0.7399015430283471\n",
            "----------------------------------------------------------------------\n",
            "Treinando o modelo Ridge\n",
            "R² treino: 0.7791209729798616\n",
            "R² validação: 0.77 +- 0.02\n",
            "R² teste: 0.7592216188740066\n",
            "----------------------------------------------------------------------\n",
            "Treinando o modelo RidgeCV\n",
            "R² treino: 0.77912097297986\n",
            "R² validação: 0.77 +- 0.02\n",
            "R² teste: 0.7592216188739551\n",
            "----------------------------------------------------------------------\n",
            "Treinando o modelo SGDRegressor\n",
            "R² treino: 0.7390788843707955\n",
            "R² validação: 0.70 +- 0.06\n",
            "R² teste: 0.7327500803014663\n",
            "----------------------------------------------------------------------\n",
            "Treinando o modelo SVR\n",
            "R² treino: 0.8146678006919513\n",
            "R² validação: 0.80 +- 0.03\n",
            "R² teste: 0.7810969464471332\n",
            "----------------------------------------------------------------------\n",
            "Treinando o modelo TheilSenRegressor\n",
            "R² treino: 0.7299498881534694\n",
            "R² validação: 0.73 +- 0.02\n",
            "R² teste: 0.7116940707708561\n",
            "----------------------------------------------------------------------\n",
            "Treinando o modelo TransformedTargetRegressor\n",
            "R² treino: 0.7788704426559991\n",
            "R² validação: 0.77 +- 0.02\n",
            "R² teste: 0.7569199963876833\n",
            "----------------------------------------------------------------------\n"
          ],
          "name": "stdout"
        }
      ]
    },
    {
      "cell_type": "code",
      "metadata": {
        "id": "bbdGuVWkbxQ6",
        "colab": {
          "base_uri": "https://localhost:8080/",
          "height": 357
        },
        "outputId": "ffb4616e-fe20-4adc-b0a9-ef985a557a1e"
      },
      "source": [
        "relatorio = pd.DataFrame(relatorio).sort_values(by='cv_scores_mean', ascending=False)\n",
        "relatorio.head(10)"
      ],
      "execution_count": 11,
      "outputs": [
        {
          "output_type": "execute_result",
          "data": {
            "text/html": [
              "<div>\n",
              "<style scoped>\n",
              "    .dataframe tbody tr th:only-of-type {\n",
              "        vertical-align: middle;\n",
              "    }\n",
              "\n",
              "    .dataframe tbody tr th {\n",
              "        vertical-align: top;\n",
              "    }\n",
              "\n",
              "    .dataframe thead th {\n",
              "        text-align: right;\n",
              "    }\n",
              "</style>\n",
              "<table border=\"1\" class=\"dataframe\">\n",
              "  <thead>\n",
              "    <tr style=\"text-align: right;\">\n",
              "      <th></th>\n",
              "      <th>nome</th>\n",
              "      <th>train_score</th>\n",
              "      <th>cv_scores_mean</th>\n",
              "      <th>test_score</th>\n",
              "      <th>estimador</th>\n",
              "    </tr>\n",
              "  </thead>\n",
              "  <tbody>\n",
              "    <tr>\n",
              "      <th>11</th>\n",
              "      <td>GradientBoostingRegressor</td>\n",
              "      <td>0.892910</td>\n",
              "      <td>0.814103</td>\n",
              "      <td>0.741531</td>\n",
              "      <td>([DecisionTreeRegressor(ccp_alpha=0.0, criteri...</td>\n",
              "    </tr>\n",
              "    <tr>\n",
              "      <th>26</th>\n",
              "      <td>NuSVR</td>\n",
              "      <td>0.813479</td>\n",
              "      <td>0.804268</td>\n",
              "      <td>0.779210</td>\n",
              "      <td>NuSVR(C=1.0, cache_size=200, coef0=0.0, degree...</td>\n",
              "    </tr>\n",
              "    <tr>\n",
              "      <th>37</th>\n",
              "      <td>SVR</td>\n",
              "      <td>0.814668</td>\n",
              "      <td>0.803894</td>\n",
              "      <td>0.781097</td>\n",
              "      <td>SVR(C=1.0, cache_size=200, coef0=0.0, degree=3...</td>\n",
              "    </tr>\n",
              "    <tr>\n",
              "      <th>12</th>\n",
              "      <td>HistGradientBoostingRegressor</td>\n",
              "      <td>0.879564</td>\n",
              "      <td>0.793807</td>\n",
              "      <td>0.769575</td>\n",
              "      <td>HistGradientBoostingRegressor(l2_regularizatio...</td>\n",
              "    </tr>\n",
              "    <tr>\n",
              "      <th>14</th>\n",
              "      <td>KNeighborsRegressor</td>\n",
              "      <td>0.864170</td>\n",
              "      <td>0.787235</td>\n",
              "      <td>0.763291</td>\n",
              "      <td>KNeighborsRegressor(algorithm='auto', leaf_siz...</td>\n",
              "    </tr>\n",
              "    <tr>\n",
              "      <th>33</th>\n",
              "      <td>RandomForestRegressor</td>\n",
              "      <td>0.940777</td>\n",
              "      <td>0.782345</td>\n",
              "      <td>0.739902</td>\n",
              "      <td>(DecisionTreeRegressor(ccp_alpha=0.0, criterio...</td>\n",
              "    </tr>\n",
              "    <tr>\n",
              "      <th>1</th>\n",
              "      <td>AdaBoostRegressor</td>\n",
              "      <td>0.832762</td>\n",
              "      <td>0.778417</td>\n",
              "      <td>0.757773</td>\n",
              "      <td>(DecisionTreeRegressor(ccp_alpha=0.0, criterio...</td>\n",
              "    </tr>\n",
              "    <tr>\n",
              "      <th>13</th>\n",
              "      <td>HuberRegressor</td>\n",
              "      <td>0.777473</td>\n",
              "      <td>0.771618</td>\n",
              "      <td>0.759626</td>\n",
              "      <td>HuberRegressor(alpha=0.0001, epsilon=1.35, fit...</td>\n",
              "    </tr>\n",
              "    <tr>\n",
              "      <th>39</th>\n",
              "      <td>TransformedTargetRegressor</td>\n",
              "      <td>0.778870</td>\n",
              "      <td>0.771164</td>\n",
              "      <td>0.756920</td>\n",
              "      <td>TransformedTargetRegressor(check_inverse=True,...</td>\n",
              "    </tr>\n",
              "    <tr>\n",
              "      <th>23</th>\n",
              "      <td>LinearRegression</td>\n",
              "      <td>0.778870</td>\n",
              "      <td>0.771164</td>\n",
              "      <td>0.756920</td>\n",
              "      <td>LinearRegression(copy_X=True, fit_intercept=Tr...</td>\n",
              "    </tr>\n",
              "  </tbody>\n",
              "</table>\n",
              "</div>"
            ],
            "text/plain": [
              "                             nome  ...                                          estimador\n",
              "11      GradientBoostingRegressor  ...  ([DecisionTreeRegressor(ccp_alpha=0.0, criteri...\n",
              "26                          NuSVR  ...  NuSVR(C=1.0, cache_size=200, coef0=0.0, degree...\n",
              "37                            SVR  ...  SVR(C=1.0, cache_size=200, coef0=0.0, degree=3...\n",
              "12  HistGradientBoostingRegressor  ...  HistGradientBoostingRegressor(l2_regularizatio...\n",
              "14            KNeighborsRegressor  ...  KNeighborsRegressor(algorithm='auto', leaf_siz...\n",
              "33          RandomForestRegressor  ...  (DecisionTreeRegressor(ccp_alpha=0.0, criterio...\n",
              "1               AdaBoostRegressor  ...  (DecisionTreeRegressor(ccp_alpha=0.0, criterio...\n",
              "13                 HuberRegressor  ...  HuberRegressor(alpha=0.0001, epsilon=1.35, fit...\n",
              "39     TransformedTargetRegressor  ...  TransformedTargetRegressor(check_inverse=True,...\n",
              "23               LinearRegression  ...  LinearRegression(copy_X=True, fit_intercept=Tr...\n",
              "\n",
              "[10 rows x 5 columns]"
            ]
          },
          "metadata": {
            "tags": []
          },
          "execution_count": 11
        }
      ]
    },
    {
      "cell_type": "markdown",
      "metadata": {
        "id": "ooicjozH-CdH"
      },
      "source": [
        "### 3.4 TBD: calibrando melhores estimadores usando GridSearchCV"
      ]
    },
    {
      "cell_type": "code",
      "metadata": {
        "id": "iH1s0ADL-cyS"
      },
      "source": [
        "## Usar GridSearchCV para calibrar os melhores estimadores"
      ],
      "execution_count": 12,
      "outputs": []
    },
    {
      "cell_type": "markdown",
      "metadata": {
        "id": "KZqXRTdf-jx_"
      },
      "source": [
        "### 3.5 (Opcional) Combinando os melhores estimadores usando stacking"
      ]
    },
    {
      "cell_type": "code",
      "metadata": {
        "id": "8qQQOpXIg-K9",
        "colab": {
          "base_uri": "https://localhost:8080/"
        },
        "outputId": "579cb431-a2a3-4203-d9b3-7b337fa73b5e"
      },
      "source": [
        "from sklearn.ensemble import StackingRegressor\n",
        "\n",
        "top_3_regs = relatorio[['nome', 'estimador']].values[:3]\n",
        "\n",
        "reg = StackingRegressor(\n",
        "    estimators = top_3_regs\n",
        ")\n",
        "\n",
        "reg.fit(X_train, y_train)\n",
        "\n",
        "train_score = reg.score(X_train, y_train)\n",
        "cv_scores = cross_val_score(reg, X_train, y_train)\n",
        "test_score = reg.score(X_test, y_test)\n",
        "\n",
        "print(f\"R² treino: {train_score}\")\n",
        "print(f\"R² validação: {np.mean(cv_scores):.2f} +- {np.std(cv_scores):.2f}\")\n",
        "print(f\"R² teste: {test_score}\")\n",
        "print('-'*70)"
      ],
      "execution_count": 13,
      "outputs": [
        {
          "output_type": "stream",
          "text": [
            "R² treino: 0.8729428507971804\n",
            "R² validação: 0.82 +- 0.04\n",
            "R² teste: 0.7691858202336412\n",
            "----------------------------------------------------------------------\n"
          ],
          "name": "stdout"
        }
      ]
    },
    {
      "cell_type": "code",
      "metadata": {
        "id": "4z5V0-E5g-AC",
        "colab": {
          "base_uri": "https://localhost:8080/"
        },
        "outputId": "1bf308c1-b763-4847-f3f8-d95b149e3114"
      },
      "source": [
        "reg"
      ],
      "execution_count": 14,
      "outputs": [
        {
          "output_type": "execute_result",
          "data": {
            "text/plain": [
              "StackingRegressor(cv=None,\n",
              "                  estimators=array([['GradientBoostingRegressor',\n",
              "        GradientBoostingRegressor(alpha=0.9, ccp_alpha=0.0, criterion='friedman_mse',\n",
              "                          init=None, learning_rate=0.1, loss='ls', max_depth=3,\n",
              "                          max_features=None, max_leaf_nodes=None,\n",
              "                          min_impurity_decrease=0.0, min_impurity_split=None,\n",
              "                          min_samples_leaf=1, min_samples_split=2,\n",
              "                          min_weight_fraction_leaf=...\n",
              "        NuSVR(C=1.0, cache_size=200, coef0=0.0, degree=3, gamma='scale', kernel='rbf',\n",
              "      max_iter=-1, nu=0.5, shrinking=True, tol=0.001, verbose=False)],\n",
              "       ['SVR',\n",
              "        SVR(C=1.0, cache_size=200, coef0=0.0, degree=3, epsilon=0.1, gamma='scale',\n",
              "    kernel='rbf', max_iter=-1, shrinking=True, tol=0.001, verbose=False)]],\n",
              "      dtype=object),\n",
              "                  final_estimator=None, n_jobs=None, passthrough=False,\n",
              "                  verbose=0)"
            ]
          },
          "metadata": {
            "tags": []
          },
          "execution_count": 14
        }
      ]
    },
    {
      "cell_type": "markdown",
      "metadata": {
        "id": "zaXL6sBB1-qi"
      },
      "source": [
        "## 4. Salvando o modelo"
      ]
    },
    {
      "cell_type": "code",
      "metadata": {
        "id": "fnT9KWf52Cs0"
      },
      "source": [
        "import pickle\n",
        "\n",
        "pickle.dump(reg, open('modelo.pkl', 'wb'), protocol=4)"
      ],
      "execution_count": 15,
      "outputs": []
    },
    {
      "cell_type": "code",
      "metadata": {
        "id": "C53m18HT2DWi",
        "colab": {
          "base_uri": "https://localhost:8080/"
        },
        "outputId": "e21c14ed-8170-40c4-d8a9-b077994493e5"
      },
      "source": [
        "ls"
      ],
      "execution_count": 16,
      "outputs": [
        {
          "output_type": "stream",
          "text": [
            "modelo.pkl  \u001b[0m\u001b[01;34msample_data\u001b[0m/\n"
          ],
          "name": "stdout"
        }
      ]
    },
    {
      "cell_type": "code",
      "metadata": {
        "id": "p-cz2E-n2DQV"
      },
      "source": [
        "%reset -f"
      ],
      "execution_count": 17,
      "outputs": []
    },
    {
      "cell_type": "code",
      "metadata": {
        "id": "6GsRAjofm_mr"
      },
      "source": [
        "import pickle\n",
        "\n",
        "reg = pickle.load(open('modelo.pkl', 'rb'))"
      ],
      "execution_count": 18,
      "outputs": []
    },
    {
      "cell_type": "code",
      "metadata": {
        "id": "OZdeE_j6nCbG",
        "colab": {
          "base_uri": "https://localhost:8080/"
        },
        "outputId": "a7155133-3713-4af3-8a59-e2de7d2077f7"
      },
      "source": [
        "reg"
      ],
      "execution_count": 19,
      "outputs": [
        {
          "output_type": "execute_result",
          "data": {
            "text/plain": [
              "StackingRegressor(cv=None,\n",
              "                  estimators=array([['GradientBoostingRegressor',\n",
              "        GradientBoostingRegressor(alpha=0.9, ccp_alpha=0.0, criterion='friedman_mse',\n",
              "                          init=None, learning_rate=0.1, loss='ls', max_depth=3,\n",
              "                          max_features=None, max_leaf_nodes=None,\n",
              "                          min_impurity_decrease=0.0, min_impurity_split=None,\n",
              "                          min_samples_leaf=1, min_samples_split=2,\n",
              "                          min_weight_fraction_leaf=...\n",
              "        NuSVR(C=1.0, cache_size=200, coef0=0.0, degree=3, gamma='scale', kernel='rbf',\n",
              "      max_iter=-1, nu=0.5, shrinking=True, tol=0.001, verbose=False)],\n",
              "       ['SVR',\n",
              "        SVR(C=1.0, cache_size=200, coef0=0.0, degree=3, epsilon=0.1, gamma='scale',\n",
              "    kernel='rbf', max_iter=-1, shrinking=True, tol=0.001, verbose=False)]],\n",
              "      dtype=object),\n",
              "                  final_estimator=None, n_jobs=None, passthrough=False,\n",
              "                  verbose=0)"
            ]
          },
          "metadata": {
            "tags": []
          },
          "execution_count": 19
        }
      ]
    },
    {
      "cell_type": "code",
      "metadata": {
        "id": "vOa_1jPXnKPp",
        "colab": {
          "base_uri": "https://localhost:8080/"
        },
        "outputId": "d6e6c983-4dbb-4785-d0b1-af5a18083ee1"
      },
      "source": [
        "import numpy as np\n",
        "\n",
        "dados_novos = [0, 0, 0, 1, np.log1p(2), np.log1p(120)]\n",
        "\n",
        "np.expm1(reg.predict([dados_novos]))"
      ],
      "execution_count": 20,
      "outputs": [
        {
          "output_type": "execute_result",
          "data": {
            "text/plain": [
              "array([3484.22989095])"
            ]
          },
          "metadata": {
            "tags": []
          },
          "execution_count": 20
        }
      ]
    }
  ]
}