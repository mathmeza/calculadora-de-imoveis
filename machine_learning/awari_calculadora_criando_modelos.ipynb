{
  "nbformat": 4,
  "nbformat_minor": 0,
  "metadata": {
    "colab": {
      "name": "Awari-Aula12_14-criando_modelos.ipynb",
      "provenance": [],
      "collapsed_sections": []
    },
    "kernelspec": {
      "name": "python3",
      "display_name": "Python 3"
    },
    "language_info": {
      "name": "python"
    }
  },
  "cells": [
    {
      "cell_type": "markdown",
      "metadata": {
        "id": "ky0qkQQeSIiA"
      },
      "source": [
        "## 1. Dividindo os dados entre treino e teste"
      ]
    },
    {
      "cell_type": "code",
      "metadata": {
        "id": "oSo9ctIEGPLk"
      },
      "source": [
        "import pandas as pd"
      ],
      "execution_count": 1,
      "outputs": []
    },
    {
      "cell_type": "code",
      "metadata": {
        "id": "9Eot7_ojPx43"
      },
      "source": [
        "treino = pd.read_csv('https://raw.githubusercontent.com/mathmeza/calculadora-de-imoveis/main/analise_e_preprocessamento/treino_preprocessado.csv') \n",
        "teste = pd.read_csv('https://raw.githubusercontent.com/mathmeza/calculadora-de-imoveis/main/analise_e_preprocessamento/teste_preprocessado.csv')"
      ],
      "execution_count": 2,
      "outputs": []
    },
    {
      "cell_type": "code",
      "metadata": {
        "colab": {
          "base_uri": "https://localhost:8080/",
          "height": 220
        },
        "id": "bZVIpG_ePx7r",
        "outputId": "04c30c3d-928e-4ffe-f211-65b76011ee84"
      },
      "source": [
        "print(treino.shape)\n",
        "treino.head()"
      ],
      "execution_count": 3,
      "outputs": [
        {
          "output_type": "stream",
          "text": [
            "(540, 7)\n"
          ],
          "name": "stdout"
        },
        {
          "output_type": "execute_result",
          "data": {
            "text/html": [
              "<div>\n",
              "<style scoped>\n",
              "    .dataframe tbody tr th:only-of-type {\n",
              "        vertical-align: middle;\n",
              "    }\n",
              "\n",
              "    .dataframe tbody tr th {\n",
              "        vertical-align: top;\n",
              "    }\n",
              "\n",
              "    .dataframe thead th {\n",
              "        text-align: right;\n",
              "    }\n",
              "</style>\n",
              "<table border=\"1\" class=\"dataframe\">\n",
              "  <thead>\n",
              "    <tr style=\"text-align: right;\">\n",
              "      <th></th>\n",
              "      <th>zona_leste</th>\n",
              "      <th>zona_norte</th>\n",
              "      <th>zona_oeste</th>\n",
              "      <th>zona_sul</th>\n",
              "      <th>quartos</th>\n",
              "      <th>area</th>\n",
              "      <th>preco</th>\n",
              "    </tr>\n",
              "  </thead>\n",
              "  <tbody>\n",
              "    <tr>\n",
              "      <th>0</th>\n",
              "      <td>0</td>\n",
              "      <td>1</td>\n",
              "      <td>0</td>\n",
              "      <td>0</td>\n",
              "      <td>1.386294</td>\n",
              "      <td>5.484797</td>\n",
              "      <td>8.294300</td>\n",
              "    </tr>\n",
              "    <tr>\n",
              "      <th>1</th>\n",
              "      <td>1</td>\n",
              "      <td>0</td>\n",
              "      <td>0</td>\n",
              "      <td>0</td>\n",
              "      <td>1.386294</td>\n",
              "      <td>4.875197</td>\n",
              "      <td>7.901377</td>\n",
              "    </tr>\n",
              "    <tr>\n",
              "      <th>2</th>\n",
              "      <td>0</td>\n",
              "      <td>1</td>\n",
              "      <td>0</td>\n",
              "      <td>0</td>\n",
              "      <td>1.098612</td>\n",
              "      <td>5.017280</td>\n",
              "      <td>8.160804</td>\n",
              "    </tr>\n",
              "    <tr>\n",
              "      <th>3</th>\n",
              "      <td>0</td>\n",
              "      <td>1</td>\n",
              "      <td>0</td>\n",
              "      <td>0</td>\n",
              "      <td>1.098612</td>\n",
              "      <td>4.510860</td>\n",
              "      <td>7.170888</td>\n",
              "    </tr>\n",
              "    <tr>\n",
              "      <th>4</th>\n",
              "      <td>1</td>\n",
              "      <td>0</td>\n",
              "      <td>0</td>\n",
              "      <td>0</td>\n",
              "      <td>1.098612</td>\n",
              "      <td>4.330733</td>\n",
              "      <td>7.438972</td>\n",
              "    </tr>\n",
              "  </tbody>\n",
              "</table>\n",
              "</div>"
            ],
            "text/plain": [
              "   zona_leste  zona_norte  zona_oeste  zona_sul   quartos      area     preco\n",
              "0           0           1           0         0  1.386294  5.484797  8.294300\n",
              "1           1           0           0         0  1.386294  4.875197  7.901377\n",
              "2           0           1           0         0  1.098612  5.017280  8.160804\n",
              "3           0           1           0         0  1.098612  4.510860  7.170888\n",
              "4           1           0           0         0  1.098612  4.330733  7.438972"
            ]
          },
          "metadata": {
            "tags": []
          },
          "execution_count": 3
        }
      ]
    },
    {
      "cell_type": "code",
      "metadata": {
        "colab": {
          "base_uri": "https://localhost:8080/",
          "height": 220
        },
        "id": "3uZ2JZzCPx-8",
        "outputId": "f9de81d2-8183-418b-a33d-8b5ef0b65fed"
      },
      "source": [
        "print(teste.shape)\n",
        "teste.head()"
      ],
      "execution_count": 4,
      "outputs": [
        {
          "output_type": "stream",
          "text": [
            "(180, 7)\n"
          ],
          "name": "stdout"
        },
        {
          "output_type": "execute_result",
          "data": {
            "text/html": [
              "<div>\n",
              "<style scoped>\n",
              "    .dataframe tbody tr th:only-of-type {\n",
              "        vertical-align: middle;\n",
              "    }\n",
              "\n",
              "    .dataframe tbody tr th {\n",
              "        vertical-align: top;\n",
              "    }\n",
              "\n",
              "    .dataframe thead th {\n",
              "        text-align: right;\n",
              "    }\n",
              "</style>\n",
              "<table border=\"1\" class=\"dataframe\">\n",
              "  <thead>\n",
              "    <tr style=\"text-align: right;\">\n",
              "      <th></th>\n",
              "      <th>zona_leste</th>\n",
              "      <th>zona_norte</th>\n",
              "      <th>zona_oeste</th>\n",
              "      <th>zona_sul</th>\n",
              "      <th>quartos</th>\n",
              "      <th>area</th>\n",
              "      <th>preco</th>\n",
              "    </tr>\n",
              "  </thead>\n",
              "  <tbody>\n",
              "    <tr>\n",
              "      <th>0</th>\n",
              "      <td>0</td>\n",
              "      <td>0</td>\n",
              "      <td>1</td>\n",
              "      <td>0</td>\n",
              "      <td>1.098612</td>\n",
              "      <td>4.709530</td>\n",
              "      <td>7.518064</td>\n",
              "    </tr>\n",
              "    <tr>\n",
              "      <th>1</th>\n",
              "      <td>0</td>\n",
              "      <td>1</td>\n",
              "      <td>0</td>\n",
              "      <td>0</td>\n",
              "      <td>1.609438</td>\n",
              "      <td>5.638355</td>\n",
              "      <td>8.810012</td>\n",
              "    </tr>\n",
              "    <tr>\n",
              "      <th>2</th>\n",
              "      <td>0</td>\n",
              "      <td>1</td>\n",
              "      <td>0</td>\n",
              "      <td>0</td>\n",
              "      <td>0.693147</td>\n",
              "      <td>3.713572</td>\n",
              "      <td>6.685861</td>\n",
              "    </tr>\n",
              "    <tr>\n",
              "      <th>3</th>\n",
              "      <td>0</td>\n",
              "      <td>0</td>\n",
              "      <td>1</td>\n",
              "      <td>0</td>\n",
              "      <td>1.098612</td>\n",
              "      <td>4.615121</td>\n",
              "      <td>7.601402</td>\n",
              "    </tr>\n",
              "    <tr>\n",
              "      <th>4</th>\n",
              "      <td>0</td>\n",
              "      <td>0</td>\n",
              "      <td>1</td>\n",
              "      <td>0</td>\n",
              "      <td>1.791759</td>\n",
              "      <td>5.707110</td>\n",
              "      <td>10.165890</td>\n",
              "    </tr>\n",
              "  </tbody>\n",
              "</table>\n",
              "</div>"
            ],
            "text/plain": [
              "   zona_leste  zona_norte  zona_oeste  zona_sul   quartos      area      preco\n",
              "0           0           0           1         0  1.098612  4.709530   7.518064\n",
              "1           0           1           0         0  1.609438  5.638355   8.810012\n",
              "2           0           1           0         0  0.693147  3.713572   6.685861\n",
              "3           0           0           1         0  1.098612  4.615121   7.601402\n",
              "4           0           0           1         0  1.791759  5.707110  10.165890"
            ]
          },
          "metadata": {
            "tags": []
          },
          "execution_count": 4
        }
      ]
    },
    {
      "cell_type": "code",
      "metadata": {
        "id": "EIEcoJmeSM_5"
      },
      "source": [
        "X_treino = treino.drop('preco', axis=1)\n",
        "y_treino = treino['preco']\n",
        "\n",
        "X_teste = teste.drop('preco', axis=1)\n",
        "y_teste = teste['preco']"
      ],
      "execution_count": 5,
      "outputs": []
    },
    {
      "cell_type": "markdown",
      "metadata": {
        "id": "zdhG7pYtSqCw"
      },
      "source": [
        "## 2. Criando um modelo de regressão linear"
      ]
    },
    {
      "cell_type": "code",
      "metadata": {
        "id": "CT2jA8IVS284"
      },
      "source": [
        "from sklearn.linear_model import LinearRegression"
      ],
      "execution_count": 6,
      "outputs": []
    },
    {
      "cell_type": "code",
      "metadata": {
        "id": "rJYoQjWfS4x5"
      },
      "source": [
        "reg = LinearRegression()"
      ],
      "execution_count": 7,
      "outputs": []
    },
    {
      "cell_type": "code",
      "metadata": {
        "colab": {
          "base_uri": "https://localhost:8080/"
        },
        "id": "YbUfjoqJUAVX",
        "outputId": "efca2733-a229-4f47-e2e5-dbf18568e905"
      },
      "source": [
        "reg.fit(X_treino, y_treino)"
      ],
      "execution_count": 8,
      "outputs": [
        {
          "output_type": "execute_result",
          "data": {
            "text/plain": [
              "LinearRegression(copy_X=True, fit_intercept=True, n_jobs=None, normalize=False)"
            ]
          },
          "metadata": {
            "tags": []
          },
          "execution_count": 8
        }
      ]
    },
    {
      "cell_type": "code",
      "metadata": {
        "id": "cAKIun_gUAYo"
      },
      "source": [
        "import numpy as np\n",
        "\n",
        "# reg.predict(X_teste)\n",
        "n_quartos = 3\n",
        "area = 100\n",
        "\n",
        "log1_pred = reg.predict([[0, 1, 0, 0, np.log1p(n_quartos), np.log1p(area)]])"
      ],
      "execution_count": 9,
      "outputs": []
    },
    {
      "cell_type": "markdown",
      "metadata": {
        "id": "hjoOMdP6UEI6"
      },
      "source": [
        "Estamos lidando com um modelo que é log-log, mais especificamente, log + 1 de entrada e exponencial - 1 de saída."
      ]
    },
    {
      "cell_type": "code",
      "metadata": {
        "colab": {
          "base_uri": "https://localhost:8080/"
        },
        "id": "4A4hDZU5UELp",
        "outputId": "bbd4de74-357a-4f2e-ede0-1ad15a641957"
      },
      "source": [
        "np.expm1(log1_pred)"
      ],
      "execution_count": 10,
      "outputs": [
        {
          "output_type": "execute_result",
          "data": {
            "text/plain": [
              "array([1938.74635759])"
            ]
          },
          "metadata": {
            "tags": []
          },
          "execution_count": 10
        }
      ]
    },
    {
      "cell_type": "code",
      "metadata": {
        "id": "W4zq6032ULdv"
      },
      "source": [
        "log1_predicoes = reg.predict(X_teste)"
      ],
      "execution_count": 11,
      "outputs": []
    },
    {
      "cell_type": "code",
      "metadata": {
        "id": "HOVSGiKWUUSK"
      },
      "source": [
        "predicoes = np.expm1(log1_predicoes)"
      ],
      "execution_count": 12,
      "outputs": []
    },
    {
      "cell_type": "code",
      "metadata": {
        "colab": {
          "base_uri": "https://localhost:8080/",
          "height": 203
        },
        "id": "tHuH5eXCUUnJ",
        "outputId": "2fbe00c4-870a-42ee-e5e7-464dca3fd34d"
      },
      "source": [
        "X_teste.head()"
      ],
      "execution_count": 13,
      "outputs": [
        {
          "output_type": "execute_result",
          "data": {
            "text/html": [
              "<div>\n",
              "<style scoped>\n",
              "    .dataframe tbody tr th:only-of-type {\n",
              "        vertical-align: middle;\n",
              "    }\n",
              "\n",
              "    .dataframe tbody tr th {\n",
              "        vertical-align: top;\n",
              "    }\n",
              "\n",
              "    .dataframe thead th {\n",
              "        text-align: right;\n",
              "    }\n",
              "</style>\n",
              "<table border=\"1\" class=\"dataframe\">\n",
              "  <thead>\n",
              "    <tr style=\"text-align: right;\">\n",
              "      <th></th>\n",
              "      <th>zona_leste</th>\n",
              "      <th>zona_norte</th>\n",
              "      <th>zona_oeste</th>\n",
              "      <th>zona_sul</th>\n",
              "      <th>quartos</th>\n",
              "      <th>area</th>\n",
              "    </tr>\n",
              "  </thead>\n",
              "  <tbody>\n",
              "    <tr>\n",
              "      <th>0</th>\n",
              "      <td>0</td>\n",
              "      <td>0</td>\n",
              "      <td>1</td>\n",
              "      <td>0</td>\n",
              "      <td>1.098612</td>\n",
              "      <td>4.709530</td>\n",
              "    </tr>\n",
              "    <tr>\n",
              "      <th>1</th>\n",
              "      <td>0</td>\n",
              "      <td>1</td>\n",
              "      <td>0</td>\n",
              "      <td>0</td>\n",
              "      <td>1.609438</td>\n",
              "      <td>5.638355</td>\n",
              "    </tr>\n",
              "    <tr>\n",
              "      <th>2</th>\n",
              "      <td>0</td>\n",
              "      <td>1</td>\n",
              "      <td>0</td>\n",
              "      <td>0</td>\n",
              "      <td>0.693147</td>\n",
              "      <td>3.713572</td>\n",
              "    </tr>\n",
              "    <tr>\n",
              "      <th>3</th>\n",
              "      <td>0</td>\n",
              "      <td>0</td>\n",
              "      <td>1</td>\n",
              "      <td>0</td>\n",
              "      <td>1.098612</td>\n",
              "      <td>4.615121</td>\n",
              "    </tr>\n",
              "    <tr>\n",
              "      <th>4</th>\n",
              "      <td>0</td>\n",
              "      <td>0</td>\n",
              "      <td>1</td>\n",
              "      <td>0</td>\n",
              "      <td>1.791759</td>\n",
              "      <td>5.707110</td>\n",
              "    </tr>\n",
              "  </tbody>\n",
              "</table>\n",
              "</div>"
            ],
            "text/plain": [
              "   zona_leste  zona_norte  zona_oeste  zona_sul   quartos      area\n",
              "0           0           0           1         0  1.098612  4.709530\n",
              "1           0           1           0         0  1.609438  5.638355\n",
              "2           0           1           0         0  0.693147  3.713572\n",
              "3           0           0           1         0  1.098612  4.615121\n",
              "4           0           0           1         0  1.791759  5.707110"
            ]
          },
          "metadata": {
            "tags": []
          },
          "execution_count": 13
        }
      ]
    },
    {
      "cell_type": "code",
      "metadata": {
        "colab": {
          "base_uri": "https://localhost:8080/"
        },
        "id": "8NG783rpUUp-",
        "outputId": "b4c6f625-6b56-4ef6-ee0e-dba10fea99a1"
      },
      "source": [
        "y_teste.head()"
      ],
      "execution_count": 14,
      "outputs": [
        {
          "output_type": "execute_result",
          "data": {
            "text/plain": [
              "0     7.518064\n",
              "1     8.810012\n",
              "2     6.685861\n",
              "3     7.601402\n",
              "4    10.165890\n",
              "Name: preco, dtype: float64"
            ]
          },
          "metadata": {
            "tags": []
          },
          "execution_count": 14
        }
      ]
    },
    {
      "cell_type": "code",
      "metadata": {
        "colab": {
          "base_uri": "https://localhost:8080/"
        },
        "id": "mMOsigvxUZIg",
        "outputId": "ae782173-4ea0-46a1-8bfc-3331a52073f9"
      },
      "source": [
        "np.log1p(predicoes[0])"
      ],
      "execution_count": 15,
      "outputs": [
        {
          "output_type": "execute_result",
          "data": {
            "text/plain": [
              "7.9921875"
            ]
          },
          "metadata": {
            "tags": []
          },
          "execution_count": 15
        }
      ]
    },
    {
      "cell_type": "code",
      "metadata": {
        "colab": {
          "base_uri": "https://localhost:8080/"
        },
        "id": "V7Ed1jwKUa7o",
        "outputId": "9b8d93bd-7b58-4683-99e3-6c54d651da67"
      },
      "source": [
        "7.518064 - 7.9921875"
      ],
      "execution_count": 16,
      "outputs": [
        {
          "output_type": "execute_result",
          "data": {
            "text/plain": [
              "-0.47412350000000014"
            ]
          },
          "metadata": {
            "tags": []
          },
          "execution_count": 16
        }
      ]
    },
    {
      "cell_type": "code",
      "metadata": {
        "colab": {
          "base_uri": "https://localhost:8080/"
        },
        "id": "iNwn6LTqUa-h",
        "outputId": "5c7f8817-743d-47c4-da98-e20abd3169f7"
      },
      "source": [
        "reg.score(X_teste, y_teste) # r quadrado da regressão linear"
      ],
      "execution_count": 17,
      "outputs": [
        {
          "output_type": "execute_result",
          "data": {
            "text/plain": [
              "0.7569199963876833"
            ]
          },
          "metadata": {
            "tags": []
          },
          "execution_count": 17
        }
      ]
    },
    {
      "cell_type": "markdown",
      "metadata": {
        "id": "xOOQTg3lUljR"
      },
      "source": [
        "## 3. Criando um modelo de base (baseline, benchmark)\n"
      ]
    },
    {
      "cell_type": "code",
      "metadata": {
        "id": "_RE1uyb0UmUn"
      },
      "source": [
        "from sklearn.dummy import DummyRegressor"
      ],
      "execution_count": 18,
      "outputs": []
    },
    {
      "cell_type": "code",
      "metadata": {
        "id": "JcCVJ6C6U2so"
      },
      "source": [
        "regressor_boboca = DummyRegressor(strategy='mean')"
      ],
      "execution_count": 19,
      "outputs": []
    },
    {
      "cell_type": "code",
      "metadata": {
        "colab": {
          "base_uri": "https://localhost:8080/"
        },
        "id": "YHNmdZ2eiIAT",
        "outputId": "3b4217f5-4473-465c-c630-5fda53de82a8"
      },
      "source": [
        "regressor_boboca.fit(X_treino, y_treino)"
      ],
      "execution_count": 20,
      "outputs": [
        {
          "output_type": "execute_result",
          "data": {
            "text/plain": [
              "DummyRegressor(constant=None, quantile=None, strategy='mean')"
            ]
          },
          "metadata": {
            "tags": []
          },
          "execution_count": 20
        }
      ]
    },
    {
      "cell_type": "code",
      "metadata": {
        "colab": {
          "base_uri": "https://localhost:8080/"
        },
        "id": "g2Tcs8xMiIaH",
        "outputId": "938c7390-0958-4202-aebf-cb372ad6333b"
      },
      "source": [
        "regressor_boboca.score(X_teste, y_teste)"
      ],
      "execution_count": 21,
      "outputs": [
        {
          "output_type": "execute_result",
          "data": {
            "text/plain": [
              "-0.00019786408720778859"
            ]
          },
          "metadata": {
            "tags": []
          },
          "execution_count": 21
        }
      ]
    },
    {
      "cell_type": "code",
      "metadata": {
        "id": "Qj3as9cXiJA3"
      },
      "source": [
        "pred_boboca = regressor_boboca.predict(X_teste) # quando a gente faz a predição, só passamos o x de teste"
      ],
      "execution_count": 22,
      "outputs": []
    },
    {
      "cell_type": "markdown",
      "metadata": {
        "id": "71xcWSZKiV-3"
      },
      "source": [
        "Quando a gente usa o R² de dentro do pacote de métricas do sklearn (ou qualquer\n",
        "outra métrica do pacote metrics) passamos o y_true (y_teste) e os valores preditos (y_pred).\n",
        "\n",
        "O .score é o R² do pacote de métricas."
      ]
    },
    {
      "cell_type": "code",
      "metadata": {
        "colab": {
          "base_uri": "https://localhost:8080/"
        },
        "id": "M7u9ejUCiY8X",
        "outputId": "1cf998e6-b136-4633-8c14-80b294cf971c"
      },
      "source": [
        "from sklearn.metrics import r2_score\n",
        "\n",
        "r2_score(y_teste, pred_boboca)"
      ],
      "execution_count": 23,
      "outputs": [
        {
          "output_type": "execute_result",
          "data": {
            "text/plain": [
              "-0.00019786408720778859"
            ]
          },
          "metadata": {
            "tags": []
          },
          "execution_count": 23
        }
      ]
    },
    {
      "cell_type": "code",
      "metadata": {
        "colab": {
          "base_uri": "https://localhost:8080/"
        },
        "id": "TAq7j5PiidbY",
        "outputId": "a0cdf751-3d56-4f9b-aa7f-e2b145fac2de"
      },
      "source": [
        "from sklearn.ensemble import RandomForestRegressor\n",
        "\n",
        "rfn = RandomForestRegressor(random_state=100)\n",
        "rfn.fit(X_treino, y_treino)\n",
        "rfn.score(X_teste, y_teste)"
      ],
      "execution_count": 24,
      "outputs": [
        {
          "output_type": "execute_result",
          "data": {
            "text/plain": [
              "0.7339740032879546"
            ]
          },
          "metadata": {
            "tags": []
          },
          "execution_count": 24
        }
      ]
    },
    {
      "cell_type": "code",
      "metadata": {
        "id": "jt8Adtz5igUH",
        "colab": {
          "base_uri": "https://localhost:8080/"
        },
        "outputId": "1a0f8253-b6b0-437d-e853-e48507121288"
      },
      "source": [
        "# 42, 1, 100, 0 .... # vemos na próxima aula\n",
        "from sklearn.model_selection import GridSearchCV\n",
        "\n",
        "parametros = {'n_estimators':[50, 100, 150, 200], \n",
        "              'max_depth':[3, 5, 10, 15, 30], \n",
        "              'random_state': [20, 50, 42, 100]} \n",
        "\n",
        "# instancia um objeto grid search\n",
        "grid = GridSearchCV(rfn, parametros, verbose=2).fit(X_treino, y_treino)"
      ],
      "execution_count": 34,
      "outputs": [
        {
          "output_type": "stream",
          "text": [
            "Fitting 5 folds for each of 80 candidates, totalling 400 fits\n",
            "[CV] max_depth=3, n_estimators=50, random_state=20 ...................\n",
            "[CV] .... max_depth=3, n_estimators=50, random_state=20, total=   0.1s\n",
            "[CV] max_depth=3, n_estimators=50, random_state=20 ...................\n",
            "[CV] .... max_depth=3, n_estimators=50, random_state=20, total=   0.1s\n",
            "[CV] max_depth=3, n_estimators=50, random_state=20 ...................\n"
          ],
          "name": "stdout"
        },
        {
          "output_type": "stream",
          "text": [
            "[Parallel(n_jobs=1)]: Using backend SequentialBackend with 1 concurrent workers.\n",
            "[Parallel(n_jobs=1)]: Done   1 out of   1 | elapsed:    0.1s remaining:    0.0s\n"
          ],
          "name": "stderr"
        },
        {
          "output_type": "stream",
          "text": [
            "[CV] .... max_depth=3, n_estimators=50, random_state=20, total=   0.1s\n",
            "[CV] max_depth=3, n_estimators=50, random_state=20 ...................\n",
            "[CV] .... max_depth=3, n_estimators=50, random_state=20, total=   0.1s\n",
            "[CV] max_depth=3, n_estimators=50, random_state=20 ...................\n",
            "[CV] .... max_depth=3, n_estimators=50, random_state=20, total=   0.1s\n",
            "[CV] max_depth=3, n_estimators=50, random_state=50 ...................\n",
            "[CV] .... max_depth=3, n_estimators=50, random_state=50, total=   0.1s\n",
            "[CV] max_depth=3, n_estimators=50, random_state=50 ...................\n",
            "[CV] .... max_depth=3, n_estimators=50, random_state=50, total=   0.1s\n",
            "[CV] max_depth=3, n_estimators=50, random_state=50 ...................\n",
            "[CV] .... max_depth=3, n_estimators=50, random_state=50, total=   0.1s\n",
            "[CV] max_depth=3, n_estimators=50, random_state=50 ...................\n",
            "[CV] .... max_depth=3, n_estimators=50, random_state=50, total=   0.1s\n",
            "[CV] max_depth=3, n_estimators=50, random_state=50 ...................\n",
            "[CV] .... max_depth=3, n_estimators=50, random_state=50, total=   0.1s\n",
            "[CV] max_depth=3, n_estimators=50, random_state=42 ...................\n",
            "[CV] .... max_depth=3, n_estimators=50, random_state=42, total=   0.1s\n",
            "[CV] max_depth=3, n_estimators=50, random_state=42 ...................\n",
            "[CV] .... max_depth=3, n_estimators=50, random_state=42, total=   0.1s\n",
            "[CV] max_depth=3, n_estimators=50, random_state=42 ...................\n",
            "[CV] .... max_depth=3, n_estimators=50, random_state=42, total=   0.1s\n",
            "[CV] max_depth=3, n_estimators=50, random_state=42 ...................\n",
            "[CV] .... max_depth=3, n_estimators=50, random_state=42, total=   0.1s\n",
            "[CV] max_depth=3, n_estimators=50, random_state=42 ...................\n",
            "[CV] .... max_depth=3, n_estimators=50, random_state=42, total=   0.1s\n",
            "[CV] max_depth=3, n_estimators=50, random_state=100 ..................\n",
            "[CV] ... max_depth=3, n_estimators=50, random_state=100, total=   0.1s\n",
            "[CV] max_depth=3, n_estimators=50, random_state=100 ..................\n",
            "[CV] ... max_depth=3, n_estimators=50, random_state=100, total=   0.1s\n",
            "[CV] max_depth=3, n_estimators=50, random_state=100 ..................\n",
            "[CV] ... max_depth=3, n_estimators=50, random_state=100, total=   0.1s\n",
            "[CV] max_depth=3, n_estimators=50, random_state=100 ..................\n",
            "[CV] ... max_depth=3, n_estimators=50, random_state=100, total=   0.1s\n",
            "[CV] max_depth=3, n_estimators=50, random_state=100 ..................\n",
            "[CV] ... max_depth=3, n_estimators=50, random_state=100, total=   0.1s\n",
            "[CV] max_depth=3, n_estimators=100, random_state=20 ..................\n",
            "[CV] ... max_depth=3, n_estimators=100, random_state=20, total=   0.2s\n",
            "[CV] max_depth=3, n_estimators=100, random_state=20 ..................\n",
            "[CV] ... max_depth=3, n_estimators=100, random_state=20, total=   0.2s\n",
            "[CV] max_depth=3, n_estimators=100, random_state=20 ..................\n",
            "[CV] ... max_depth=3, n_estimators=100, random_state=20, total=   0.2s\n",
            "[CV] max_depth=3, n_estimators=100, random_state=20 ..................\n",
            "[CV] ... max_depth=3, n_estimators=100, random_state=20, total=   0.2s\n",
            "[CV] max_depth=3, n_estimators=100, random_state=20 ..................\n",
            "[CV] ... max_depth=3, n_estimators=100, random_state=20, total=   0.2s\n",
            "[CV] max_depth=3, n_estimators=100, random_state=50 ..................\n",
            "[CV] ... max_depth=3, n_estimators=100, random_state=50, total=   0.2s\n",
            "[CV] max_depth=3, n_estimators=100, random_state=50 ..................\n",
            "[CV] ... max_depth=3, n_estimators=100, random_state=50, total=   0.2s\n",
            "[CV] max_depth=3, n_estimators=100, random_state=50 ..................\n",
            "[CV] ... max_depth=3, n_estimators=100, random_state=50, total=   0.2s\n",
            "[CV] max_depth=3, n_estimators=100, random_state=50 ..................\n",
            "[CV] ... max_depth=3, n_estimators=100, random_state=50, total=   0.2s\n",
            "[CV] max_depth=3, n_estimators=100, random_state=50 ..................\n",
            "[CV] ... max_depth=3, n_estimators=100, random_state=50, total=   0.2s\n",
            "[CV] max_depth=3, n_estimators=100, random_state=42 ..................\n",
            "[CV] ... max_depth=3, n_estimators=100, random_state=42, total=   0.2s\n",
            "[CV] max_depth=3, n_estimators=100, random_state=42 ..................\n",
            "[CV] ... max_depth=3, n_estimators=100, random_state=42, total=   0.1s\n",
            "[CV] max_depth=3, n_estimators=100, random_state=42 ..................\n",
            "[CV] ... max_depth=3, n_estimators=100, random_state=42, total=   0.2s\n",
            "[CV] max_depth=3, n_estimators=100, random_state=42 ..................\n",
            "[CV] ... max_depth=3, n_estimators=100, random_state=42, total=   0.2s\n",
            "[CV] max_depth=3, n_estimators=100, random_state=42 ..................\n",
            "[CV] ... max_depth=3, n_estimators=100, random_state=42, total=   0.2s\n",
            "[CV] max_depth=3, n_estimators=100, random_state=100 .................\n",
            "[CV] .. max_depth=3, n_estimators=100, random_state=100, total=   0.2s\n",
            "[CV] max_depth=3, n_estimators=100, random_state=100 .................\n",
            "[CV] .. max_depth=3, n_estimators=100, random_state=100, total=   0.2s\n",
            "[CV] max_depth=3, n_estimators=100, random_state=100 .................\n",
            "[CV] .. max_depth=3, n_estimators=100, random_state=100, total=   0.1s\n",
            "[CV] max_depth=3, n_estimators=100, random_state=100 .................\n",
            "[CV] .. max_depth=3, n_estimators=100, random_state=100, total=   0.2s\n",
            "[CV] max_depth=3, n_estimators=100, random_state=100 .................\n",
            "[CV] .. max_depth=3, n_estimators=100, random_state=100, total=   0.2s\n",
            "[CV] max_depth=3, n_estimators=150, random_state=20 ..................\n",
            "[CV] ... max_depth=3, n_estimators=150, random_state=20, total=   0.2s\n",
            "[CV] max_depth=3, n_estimators=150, random_state=20 ..................\n",
            "[CV] ... max_depth=3, n_estimators=150, random_state=20, total=   0.2s\n",
            "[CV] max_depth=3, n_estimators=150, random_state=20 ..................\n",
            "[CV] ... max_depth=3, n_estimators=150, random_state=20, total=   0.2s\n",
            "[CV] max_depth=3, n_estimators=150, random_state=20 ..................\n",
            "[CV] ... max_depth=3, n_estimators=150, random_state=20, total=   0.2s\n",
            "[CV] max_depth=3, n_estimators=150, random_state=20 ..................\n",
            "[CV] ... max_depth=3, n_estimators=150, random_state=20, total=   0.2s\n",
            "[CV] max_depth=3, n_estimators=150, random_state=50 ..................\n",
            "[CV] ... max_depth=3, n_estimators=150, random_state=50, total=   0.2s\n",
            "[CV] max_depth=3, n_estimators=150, random_state=50 ..................\n",
            "[CV] ... max_depth=3, n_estimators=150, random_state=50, total=   0.2s\n",
            "[CV] max_depth=3, n_estimators=150, random_state=50 ..................\n",
            "[CV] ... max_depth=3, n_estimators=150, random_state=50, total=   0.2s\n",
            "[CV] max_depth=3, n_estimators=150, random_state=50 ..................\n",
            "[CV] ... max_depth=3, n_estimators=150, random_state=50, total=   0.2s\n",
            "[CV] max_depth=3, n_estimators=150, random_state=50 ..................\n",
            "[CV] ... max_depth=3, n_estimators=150, random_state=50, total=   0.2s\n",
            "[CV] max_depth=3, n_estimators=150, random_state=42 ..................\n",
            "[CV] ... max_depth=3, n_estimators=150, random_state=42, total=   0.2s\n",
            "[CV] max_depth=3, n_estimators=150, random_state=42 ..................\n",
            "[CV] ... max_depth=3, n_estimators=150, random_state=42, total=   0.2s\n",
            "[CV] max_depth=3, n_estimators=150, random_state=42 ..................\n",
            "[CV] ... max_depth=3, n_estimators=150, random_state=42, total=   0.2s\n",
            "[CV] max_depth=3, n_estimators=150, random_state=42 ..................\n",
            "[CV] ... max_depth=3, n_estimators=150, random_state=42, total=   0.2s\n",
            "[CV] max_depth=3, n_estimators=150, random_state=42 ..................\n",
            "[CV] ... max_depth=3, n_estimators=150, random_state=42, total=   0.2s\n",
            "[CV] max_depth=3, n_estimators=150, random_state=100 .................\n",
            "[CV] .. max_depth=3, n_estimators=150, random_state=100, total=   0.2s\n",
            "[CV] max_depth=3, n_estimators=150, random_state=100 .................\n",
            "[CV] .. max_depth=3, n_estimators=150, random_state=100, total=   0.2s\n",
            "[CV] max_depth=3, n_estimators=150, random_state=100 .................\n",
            "[CV] .. max_depth=3, n_estimators=150, random_state=100, total=   0.2s\n",
            "[CV] max_depth=3, n_estimators=150, random_state=100 .................\n",
            "[CV] .. max_depth=3, n_estimators=150, random_state=100, total=   0.2s\n",
            "[CV] max_depth=3, n_estimators=150, random_state=100 .................\n",
            "[CV] .. max_depth=3, n_estimators=150, random_state=100, total=   0.3s\n",
            "[CV] max_depth=3, n_estimators=200, random_state=20 ..................\n",
            "[CV] ... max_depth=3, n_estimators=200, random_state=20, total=   0.3s\n",
            "[CV] max_depth=3, n_estimators=200, random_state=20 ..................\n",
            "[CV] ... max_depth=3, n_estimators=200, random_state=20, total=   0.3s\n",
            "[CV] max_depth=3, n_estimators=200, random_state=20 ..................\n",
            "[CV] ... max_depth=3, n_estimators=200, random_state=20, total=   0.3s\n",
            "[CV] max_depth=3, n_estimators=200, random_state=20 ..................\n",
            "[CV] ... max_depth=3, n_estimators=200, random_state=20, total=   0.4s\n",
            "[CV] max_depth=3, n_estimators=200, random_state=20 ..................\n",
            "[CV] ... max_depth=3, n_estimators=200, random_state=20, total=   0.3s\n",
            "[CV] max_depth=3, n_estimators=200, random_state=50 ..................\n",
            "[CV] ... max_depth=3, n_estimators=200, random_state=50, total=   0.3s\n",
            "[CV] max_depth=3, n_estimators=200, random_state=50 ..................\n",
            "[CV] ... max_depth=3, n_estimators=200, random_state=50, total=   0.3s\n",
            "[CV] max_depth=3, n_estimators=200, random_state=50 ..................\n",
            "[CV] ... max_depth=3, n_estimators=200, random_state=50, total=   0.3s\n",
            "[CV] max_depth=3, n_estimators=200, random_state=50 ..................\n",
            "[CV] ... max_depth=3, n_estimators=200, random_state=50, total=   0.3s\n",
            "[CV] max_depth=3, n_estimators=200, random_state=50 ..................\n",
            "[CV] ... max_depth=3, n_estimators=200, random_state=50, total=   0.3s\n",
            "[CV] max_depth=3, n_estimators=200, random_state=42 ..................\n",
            "[CV] ... max_depth=3, n_estimators=200, random_state=42, total=   0.3s\n",
            "[CV] max_depth=3, n_estimators=200, random_state=42 ..................\n",
            "[CV] ... max_depth=3, n_estimators=200, random_state=42, total=   0.3s\n",
            "[CV] max_depth=3, n_estimators=200, random_state=42 ..................\n",
            "[CV] ... max_depth=3, n_estimators=200, random_state=42, total=   0.3s\n",
            "[CV] max_depth=3, n_estimators=200, random_state=42 ..................\n",
            "[CV] ... max_depth=3, n_estimators=200, random_state=42, total=   0.4s\n",
            "[CV] max_depth=3, n_estimators=200, random_state=42 ..................\n",
            "[CV] ... max_depth=3, n_estimators=200, random_state=42, total=   0.3s\n",
            "[CV] max_depth=3, n_estimators=200, random_state=100 .................\n",
            "[CV] .. max_depth=3, n_estimators=200, random_state=100, total=   0.3s\n",
            "[CV] max_depth=3, n_estimators=200, random_state=100 .................\n",
            "[CV] .. max_depth=3, n_estimators=200, random_state=100, total=   0.3s\n",
            "[CV] max_depth=3, n_estimators=200, random_state=100 .................\n",
            "[CV] .. max_depth=3, n_estimators=200, random_state=100, total=   0.3s\n",
            "[CV] max_depth=3, n_estimators=200, random_state=100 .................\n",
            "[CV] .. max_depth=3, n_estimators=200, random_state=100, total=   0.3s\n",
            "[CV] max_depth=3, n_estimators=200, random_state=100 .................\n",
            "[CV] .. max_depth=3, n_estimators=200, random_state=100, total=   0.3s\n",
            "[CV] max_depth=5, n_estimators=50, random_state=20 ...................\n",
            "[CV] .... max_depth=5, n_estimators=50, random_state=20, total=   0.1s\n",
            "[CV] max_depth=5, n_estimators=50, random_state=20 ...................\n",
            "[CV] .... max_depth=5, n_estimators=50, random_state=20, total=   0.1s\n",
            "[CV] max_depth=5, n_estimators=50, random_state=20 ...................\n",
            "[CV] .... max_depth=5, n_estimators=50, random_state=20, total=   0.1s\n",
            "[CV] max_depth=5, n_estimators=50, random_state=20 ...................\n",
            "[CV] .... max_depth=5, n_estimators=50, random_state=20, total=   0.1s\n",
            "[CV] max_depth=5, n_estimators=50, random_state=20 ...................\n",
            "[CV] .... max_depth=5, n_estimators=50, random_state=20, total=   0.1s\n",
            "[CV] max_depth=5, n_estimators=50, random_state=50 ...................\n",
            "[CV] .... max_depth=5, n_estimators=50, random_state=50, total=   0.1s\n",
            "[CV] max_depth=5, n_estimators=50, random_state=50 ...................\n",
            "[CV] .... max_depth=5, n_estimators=50, random_state=50, total=   0.1s\n",
            "[CV] max_depth=5, n_estimators=50, random_state=50 ...................\n",
            "[CV] .... max_depth=5, n_estimators=50, random_state=50, total=   0.1s\n",
            "[CV] max_depth=5, n_estimators=50, random_state=50 ...................\n",
            "[CV] .... max_depth=5, n_estimators=50, random_state=50, total=   0.1s\n",
            "[CV] max_depth=5, n_estimators=50, random_state=50 ...................\n",
            "[CV] .... max_depth=5, n_estimators=50, random_state=50, total=   0.1s\n",
            "[CV] max_depth=5, n_estimators=50, random_state=42 ...................\n",
            "[CV] .... max_depth=5, n_estimators=50, random_state=42, total=   0.1s\n",
            "[CV] max_depth=5, n_estimators=50, random_state=42 ...................\n",
            "[CV] .... max_depth=5, n_estimators=50, random_state=42, total=   0.1s\n",
            "[CV] max_depth=5, n_estimators=50, random_state=42 ...................\n",
            "[CV] .... max_depth=5, n_estimators=50, random_state=42, total=   0.1s\n",
            "[CV] max_depth=5, n_estimators=50, random_state=42 ...................\n",
            "[CV] .... max_depth=5, n_estimators=50, random_state=42, total=   0.1s\n",
            "[CV] max_depth=5, n_estimators=50, random_state=42 ...................\n",
            "[CV] .... max_depth=5, n_estimators=50, random_state=42, total=   0.1s\n",
            "[CV] max_depth=5, n_estimators=50, random_state=100 ..................\n",
            "[CV] ... max_depth=5, n_estimators=50, random_state=100, total=   0.1s\n",
            "[CV] max_depth=5, n_estimators=50, random_state=100 ..................\n",
            "[CV] ... max_depth=5, n_estimators=50, random_state=100, total=   0.1s\n",
            "[CV] max_depth=5, n_estimators=50, random_state=100 ..................\n",
            "[CV] ... max_depth=5, n_estimators=50, random_state=100, total=   0.1s\n",
            "[CV] max_depth=5, n_estimators=50, random_state=100 ..................\n",
            "[CV] ... max_depth=5, n_estimators=50, random_state=100, total=   0.1s\n",
            "[CV] max_depth=5, n_estimators=50, random_state=100 ..................\n",
            "[CV] ... max_depth=5, n_estimators=50, random_state=100, total=   0.1s\n",
            "[CV] max_depth=5, n_estimators=100, random_state=20 ..................\n",
            "[CV] ... max_depth=5, n_estimators=100, random_state=20, total=   0.2s\n",
            "[CV] max_depth=5, n_estimators=100, random_state=20 ..................\n",
            "[CV] ... max_depth=5, n_estimators=100, random_state=20, total=   0.2s\n",
            "[CV] max_depth=5, n_estimators=100, random_state=20 ..................\n",
            "[CV] ... max_depth=5, n_estimators=100, random_state=20, total=   0.2s\n",
            "[CV] max_depth=5, n_estimators=100, random_state=20 ..................\n",
            "[CV] ... max_depth=5, n_estimators=100, random_state=20, total=   0.2s\n",
            "[CV] max_depth=5, n_estimators=100, random_state=20 ..................\n",
            "[CV] ... max_depth=5, n_estimators=100, random_state=20, total=   0.2s\n",
            "[CV] max_depth=5, n_estimators=100, random_state=50 ..................\n",
            "[CV] ... max_depth=5, n_estimators=100, random_state=50, total=   0.2s\n",
            "[CV] max_depth=5, n_estimators=100, random_state=50 ..................\n",
            "[CV] ... max_depth=5, n_estimators=100, random_state=50, total=   0.2s\n",
            "[CV] max_depth=5, n_estimators=100, random_state=50 ..................\n",
            "[CV] ... max_depth=5, n_estimators=100, random_state=50, total=   0.2s\n",
            "[CV] max_depth=5, n_estimators=100, random_state=50 ..................\n",
            "[CV] ... max_depth=5, n_estimators=100, random_state=50, total=   0.2s\n",
            "[CV] max_depth=5, n_estimators=100, random_state=50 ..................\n",
            "[CV] ... max_depth=5, n_estimators=100, random_state=50, total=   0.2s\n",
            "[CV] max_depth=5, n_estimators=100, random_state=42 ..................\n",
            "[CV] ... max_depth=5, n_estimators=100, random_state=42, total=   0.2s\n",
            "[CV] max_depth=5, n_estimators=100, random_state=42 ..................\n",
            "[CV] ... max_depth=5, n_estimators=100, random_state=42, total=   0.2s\n",
            "[CV] max_depth=5, n_estimators=100, random_state=42 ..................\n",
            "[CV] ... max_depth=5, n_estimators=100, random_state=42, total=   0.2s\n",
            "[CV] max_depth=5, n_estimators=100, random_state=42 ..................\n",
            "[CV] ... max_depth=5, n_estimators=100, random_state=42, total=   0.2s\n",
            "[CV] max_depth=5, n_estimators=100, random_state=42 ..................\n",
            "[CV] ... max_depth=5, n_estimators=100, random_state=42, total=   0.2s\n",
            "[CV] max_depth=5, n_estimators=100, random_state=100 .................\n",
            "[CV] .. max_depth=5, n_estimators=100, random_state=100, total=   0.2s\n",
            "[CV] max_depth=5, n_estimators=100, random_state=100 .................\n",
            "[CV] .. max_depth=5, n_estimators=100, random_state=100, total=   0.2s\n",
            "[CV] max_depth=5, n_estimators=100, random_state=100 .................\n",
            "[CV] .. max_depth=5, n_estimators=100, random_state=100, total=   0.2s\n",
            "[CV] max_depth=5, n_estimators=100, random_state=100 .................\n",
            "[CV] .. max_depth=5, n_estimators=100, random_state=100, total=   0.2s\n",
            "[CV] max_depth=5, n_estimators=100, random_state=100 .................\n",
            "[CV] .. max_depth=5, n_estimators=100, random_state=100, total=   0.2s\n",
            "[CV] max_depth=5, n_estimators=150, random_state=20 ..................\n",
            "[CV] ... max_depth=5, n_estimators=150, random_state=20, total=   0.2s\n",
            "[CV] max_depth=5, n_estimators=150, random_state=20 ..................\n",
            "[CV] ... max_depth=5, n_estimators=150, random_state=20, total=   0.2s\n",
            "[CV] max_depth=5, n_estimators=150, random_state=20 ..................\n",
            "[CV] ... max_depth=5, n_estimators=150, random_state=20, total=   0.3s\n",
            "[CV] max_depth=5, n_estimators=150, random_state=20 ..................\n",
            "[CV] ... max_depth=5, n_estimators=150, random_state=20, total=   0.2s\n",
            "[CV] max_depth=5, n_estimators=150, random_state=20 ..................\n",
            "[CV] ... max_depth=5, n_estimators=150, random_state=20, total=   0.2s\n",
            "[CV] max_depth=5, n_estimators=150, random_state=50 ..................\n",
            "[CV] ... max_depth=5, n_estimators=150, random_state=50, total=   0.3s\n",
            "[CV] max_depth=5, n_estimators=150, random_state=50 ..................\n",
            "[CV] ... max_depth=5, n_estimators=150, random_state=50, total=   0.3s\n",
            "[CV] max_depth=5, n_estimators=150, random_state=50 ..................\n",
            "[CV] ... max_depth=5, n_estimators=150, random_state=50, total=   0.2s\n",
            "[CV] max_depth=5, n_estimators=150, random_state=50 ..................\n",
            "[CV] ... max_depth=5, n_estimators=150, random_state=50, total=   0.2s\n",
            "[CV] max_depth=5, n_estimators=150, random_state=50 ..................\n",
            "[CV] ... max_depth=5, n_estimators=150, random_state=50, total=   0.3s\n",
            "[CV] max_depth=5, n_estimators=150, random_state=42 ..................\n",
            "[CV] ... max_depth=5, n_estimators=150, random_state=42, total=   0.2s\n",
            "[CV] max_depth=5, n_estimators=150, random_state=42 ..................\n",
            "[CV] ... max_depth=5, n_estimators=150, random_state=42, total=   0.2s\n",
            "[CV] max_depth=5, n_estimators=150, random_state=42 ..................\n",
            "[CV] ... max_depth=5, n_estimators=150, random_state=42, total=   0.2s\n",
            "[CV] max_depth=5, n_estimators=150, random_state=42 ..................\n",
            "[CV] ... max_depth=5, n_estimators=150, random_state=42, total=   0.3s\n",
            "[CV] max_depth=5, n_estimators=150, random_state=42 ..................\n",
            "[CV] ... max_depth=5, n_estimators=150, random_state=42, total=   0.2s\n",
            "[CV] max_depth=5, n_estimators=150, random_state=100 .................\n",
            "[CV] .. max_depth=5, n_estimators=150, random_state=100, total=   0.3s\n",
            "[CV] max_depth=5, n_estimators=150, random_state=100 .................\n",
            "[CV] .. max_depth=5, n_estimators=150, random_state=100, total=   0.2s\n",
            "[CV] max_depth=5, n_estimators=150, random_state=100 .................\n",
            "[CV] .. max_depth=5, n_estimators=150, random_state=100, total=   0.2s\n",
            "[CV] max_depth=5, n_estimators=150, random_state=100 .................\n",
            "[CV] .. max_depth=5, n_estimators=150, random_state=100, total=   0.2s\n",
            "[CV] max_depth=5, n_estimators=150, random_state=100 .................\n",
            "[CV] .. max_depth=5, n_estimators=150, random_state=100, total=   0.2s\n",
            "[CV] max_depth=5, n_estimators=200, random_state=20 ..................\n",
            "[CV] ... max_depth=5, n_estimators=200, random_state=20, total=   0.3s\n",
            "[CV] max_depth=5, n_estimators=200, random_state=20 ..................\n",
            "[CV] ... max_depth=5, n_estimators=200, random_state=20, total=   0.3s\n",
            "[CV] max_depth=5, n_estimators=200, random_state=20 ..................\n",
            "[CV] ... max_depth=5, n_estimators=200, random_state=20, total=   0.3s\n",
            "[CV] max_depth=5, n_estimators=200, random_state=20 ..................\n",
            "[CV] ... max_depth=5, n_estimators=200, random_state=20, total=   0.3s\n",
            "[CV] max_depth=5, n_estimators=200, random_state=20 ..................\n",
            "[CV] ... max_depth=5, n_estimators=200, random_state=20, total=   0.3s\n",
            "[CV] max_depth=5, n_estimators=200, random_state=50 ..................\n",
            "[CV] ... max_depth=5, n_estimators=200, random_state=50, total=   0.3s\n",
            "[CV] max_depth=5, n_estimators=200, random_state=50 ..................\n",
            "[CV] ... max_depth=5, n_estimators=200, random_state=50, total=   0.3s\n",
            "[CV] max_depth=5, n_estimators=200, random_state=50 ..................\n",
            "[CV] ... max_depth=5, n_estimators=200, random_state=50, total=   0.3s\n",
            "[CV] max_depth=5, n_estimators=200, random_state=50 ..................\n",
            "[CV] ... max_depth=5, n_estimators=200, random_state=50, total=   0.3s\n",
            "[CV] max_depth=5, n_estimators=200, random_state=50 ..................\n",
            "[CV] ... max_depth=5, n_estimators=200, random_state=50, total=   0.3s\n",
            "[CV] max_depth=5, n_estimators=200, random_state=42 ..................\n",
            "[CV] ... max_depth=5, n_estimators=200, random_state=42, total=   0.3s\n",
            "[CV] max_depth=5, n_estimators=200, random_state=42 ..................\n",
            "[CV] ... max_depth=5, n_estimators=200, random_state=42, total=   0.3s\n",
            "[CV] max_depth=5, n_estimators=200, random_state=42 ..................\n",
            "[CV] ... max_depth=5, n_estimators=200, random_state=42, total=   0.3s\n",
            "[CV] max_depth=5, n_estimators=200, random_state=42 ..................\n",
            "[CV] ... max_depth=5, n_estimators=200, random_state=42, total=   0.3s\n",
            "[CV] max_depth=5, n_estimators=200, random_state=42 ..................\n",
            "[CV] ... max_depth=5, n_estimators=200, random_state=42, total=   0.3s\n",
            "[CV] max_depth=5, n_estimators=200, random_state=100 .................\n",
            "[CV] .. max_depth=5, n_estimators=200, random_state=100, total=   0.3s\n",
            "[CV] max_depth=5, n_estimators=200, random_state=100 .................\n",
            "[CV] .. max_depth=5, n_estimators=200, random_state=100, total=   0.3s\n",
            "[CV] max_depth=5, n_estimators=200, random_state=100 .................\n",
            "[CV] .. max_depth=5, n_estimators=200, random_state=100, total=   0.3s\n",
            "[CV] max_depth=5, n_estimators=200, random_state=100 .................\n",
            "[CV] .. max_depth=5, n_estimators=200, random_state=100, total=   0.3s\n",
            "[CV] max_depth=5, n_estimators=200, random_state=100 .................\n",
            "[CV] .. max_depth=5, n_estimators=200, random_state=100, total=   0.3s\n",
            "[CV] max_depth=10, n_estimators=50, random_state=20 ..................\n",
            "[CV] ... max_depth=10, n_estimators=50, random_state=20, total=   0.1s\n",
            "[CV] max_depth=10, n_estimators=50, random_state=20 ..................\n",
            "[CV] ... max_depth=10, n_estimators=50, random_state=20, total=   0.1s\n",
            "[CV] max_depth=10, n_estimators=50, random_state=20 ..................\n",
            "[CV] ... max_depth=10, n_estimators=50, random_state=20, total=   0.1s\n",
            "[CV] max_depth=10, n_estimators=50, random_state=20 ..................\n",
            "[CV] ... max_depth=10, n_estimators=50, random_state=20, total=   0.1s\n",
            "[CV] max_depth=10, n_estimators=50, random_state=20 ..................\n",
            "[CV] ... max_depth=10, n_estimators=50, random_state=20, total=   0.1s\n",
            "[CV] max_depth=10, n_estimators=50, random_state=50 ..................\n",
            "[CV] ... max_depth=10, n_estimators=50, random_state=50, total=   0.1s\n",
            "[CV] max_depth=10, n_estimators=50, random_state=50 ..................\n",
            "[CV] ... max_depth=10, n_estimators=50, random_state=50, total=   0.1s\n",
            "[CV] max_depth=10, n_estimators=50, random_state=50 ..................\n",
            "[CV] ... max_depth=10, n_estimators=50, random_state=50, total=   0.1s\n",
            "[CV] max_depth=10, n_estimators=50, random_state=50 ..................\n",
            "[CV] ... max_depth=10, n_estimators=50, random_state=50, total=   0.1s\n",
            "[CV] max_depth=10, n_estimators=50, random_state=50 ..................\n",
            "[CV] ... max_depth=10, n_estimators=50, random_state=50, total=   0.1s\n",
            "[CV] max_depth=10, n_estimators=50, random_state=42 ..................\n",
            "[CV] ... max_depth=10, n_estimators=50, random_state=42, total=   0.1s\n",
            "[CV] max_depth=10, n_estimators=50, random_state=42 ..................\n",
            "[CV] ... max_depth=10, n_estimators=50, random_state=42, total=   0.1s\n",
            "[CV] max_depth=10, n_estimators=50, random_state=42 ..................\n",
            "[CV] ... max_depth=10, n_estimators=50, random_state=42, total=   0.1s\n",
            "[CV] max_depth=10, n_estimators=50, random_state=42 ..................\n",
            "[CV] ... max_depth=10, n_estimators=50, random_state=42, total=   0.1s\n",
            "[CV] max_depth=10, n_estimators=50, random_state=42 ..................\n",
            "[CV] ... max_depth=10, n_estimators=50, random_state=42, total=   0.1s\n",
            "[CV] max_depth=10, n_estimators=50, random_state=100 .................\n",
            "[CV] .. max_depth=10, n_estimators=50, random_state=100, total=   0.1s\n",
            "[CV] max_depth=10, n_estimators=50, random_state=100 .................\n",
            "[CV] .. max_depth=10, n_estimators=50, random_state=100, total=   0.1s\n",
            "[CV] max_depth=10, n_estimators=50, random_state=100 .................\n",
            "[CV] .. max_depth=10, n_estimators=50, random_state=100, total=   0.1s\n",
            "[CV] max_depth=10, n_estimators=50, random_state=100 .................\n",
            "[CV] .. max_depth=10, n_estimators=50, random_state=100, total=   0.1s\n",
            "[CV] max_depth=10, n_estimators=50, random_state=100 .................\n",
            "[CV] .. max_depth=10, n_estimators=50, random_state=100, total=   0.1s\n",
            "[CV] max_depth=10, n_estimators=100, random_state=20 .................\n",
            "[CV] .. max_depth=10, n_estimators=100, random_state=20, total=   0.2s\n",
            "[CV] max_depth=10, n_estimators=100, random_state=20 .................\n",
            "[CV] .. max_depth=10, n_estimators=100, random_state=20, total=   0.2s\n",
            "[CV] max_depth=10, n_estimators=100, random_state=20 .................\n",
            "[CV] .. max_depth=10, n_estimators=100, random_state=20, total=   0.2s\n",
            "[CV] max_depth=10, n_estimators=100, random_state=20 .................\n",
            "[CV] .. max_depth=10, n_estimators=100, random_state=20, total=   0.2s\n",
            "[CV] max_depth=10, n_estimators=100, random_state=20 .................\n",
            "[CV] .. max_depth=10, n_estimators=100, random_state=20, total=   0.2s\n",
            "[CV] max_depth=10, n_estimators=100, random_state=50 .................\n",
            "[CV] .. max_depth=10, n_estimators=100, random_state=50, total=   0.2s\n",
            "[CV] max_depth=10, n_estimators=100, random_state=50 .................\n",
            "[CV] .. max_depth=10, n_estimators=100, random_state=50, total=   0.2s\n",
            "[CV] max_depth=10, n_estimators=100, random_state=50 .................\n",
            "[CV] .. max_depth=10, n_estimators=100, random_state=50, total=   0.2s\n",
            "[CV] max_depth=10, n_estimators=100, random_state=50 .................\n",
            "[CV] .. max_depth=10, n_estimators=100, random_state=50, total=   0.2s\n",
            "[CV] max_depth=10, n_estimators=100, random_state=50 .................\n",
            "[CV] .. max_depth=10, n_estimators=100, random_state=50, total=   0.2s\n",
            "[CV] max_depth=10, n_estimators=100, random_state=42 .................\n",
            "[CV] .. max_depth=10, n_estimators=100, random_state=42, total=   0.2s\n",
            "[CV] max_depth=10, n_estimators=100, random_state=42 .................\n",
            "[CV] .. max_depth=10, n_estimators=100, random_state=42, total=   0.2s\n",
            "[CV] max_depth=10, n_estimators=100, random_state=42 .................\n",
            "[CV] .. max_depth=10, n_estimators=100, random_state=42, total=   0.2s\n",
            "[CV] max_depth=10, n_estimators=100, random_state=42 .................\n",
            "[CV] .. max_depth=10, n_estimators=100, random_state=42, total=   0.2s\n",
            "[CV] max_depth=10, n_estimators=100, random_state=42 .................\n",
            "[CV] .. max_depth=10, n_estimators=100, random_state=42, total=   0.2s\n",
            "[CV] max_depth=10, n_estimators=100, random_state=100 ................\n",
            "[CV] . max_depth=10, n_estimators=100, random_state=100, total=   0.2s\n",
            "[CV] max_depth=10, n_estimators=100, random_state=100 ................\n",
            "[CV] . max_depth=10, n_estimators=100, random_state=100, total=   0.2s\n",
            "[CV] max_depth=10, n_estimators=100, random_state=100 ................\n",
            "[CV] . max_depth=10, n_estimators=100, random_state=100, total=   0.2s\n",
            "[CV] max_depth=10, n_estimators=100, random_state=100 ................\n",
            "[CV] . max_depth=10, n_estimators=100, random_state=100, total=   0.2s\n",
            "[CV] max_depth=10, n_estimators=100, random_state=100 ................\n",
            "[CV] . max_depth=10, n_estimators=100, random_state=100, total=   0.2s\n",
            "[CV] max_depth=10, n_estimators=150, random_state=20 .................\n",
            "[CV] .. max_depth=10, n_estimators=150, random_state=20, total=   0.3s\n",
            "[CV] max_depth=10, n_estimators=150, random_state=20 .................\n",
            "[CV] .. max_depth=10, n_estimators=150, random_state=20, total=   0.3s\n",
            "[CV] max_depth=10, n_estimators=150, random_state=20 .................\n",
            "[CV] .. max_depth=10, n_estimators=150, random_state=20, total=   0.3s\n",
            "[CV] max_depth=10, n_estimators=150, random_state=20 .................\n",
            "[CV] .. max_depth=10, n_estimators=150, random_state=20, total=   0.3s\n",
            "[CV] max_depth=10, n_estimators=150, random_state=20 .................\n",
            "[CV] .. max_depth=10, n_estimators=150, random_state=20, total=   0.3s\n",
            "[CV] max_depth=10, n_estimators=150, random_state=50 .................\n",
            "[CV] .. max_depth=10, n_estimators=150, random_state=50, total=   0.3s\n",
            "[CV] max_depth=10, n_estimators=150, random_state=50 .................\n",
            "[CV] .. max_depth=10, n_estimators=150, random_state=50, total=   0.3s\n",
            "[CV] max_depth=10, n_estimators=150, random_state=50 .................\n",
            "[CV] .. max_depth=10, n_estimators=150, random_state=50, total=   0.3s\n",
            "[CV] max_depth=10, n_estimators=150, random_state=50 .................\n",
            "[CV] .. max_depth=10, n_estimators=150, random_state=50, total=   0.3s\n",
            "[CV] max_depth=10, n_estimators=150, random_state=50 .................\n",
            "[CV] .. max_depth=10, n_estimators=150, random_state=50, total=   0.3s\n",
            "[CV] max_depth=10, n_estimators=150, random_state=42 .................\n",
            "[CV] .. max_depth=10, n_estimators=150, random_state=42, total=   0.3s\n",
            "[CV] max_depth=10, n_estimators=150, random_state=42 .................\n",
            "[CV] .. max_depth=10, n_estimators=150, random_state=42, total=   0.3s\n",
            "[CV] max_depth=10, n_estimators=150, random_state=42 .................\n",
            "[CV] .. max_depth=10, n_estimators=150, random_state=42, total=   0.3s\n",
            "[CV] max_depth=10, n_estimators=150, random_state=42 .................\n",
            "[CV] .. max_depth=10, n_estimators=150, random_state=42, total=   0.3s\n",
            "[CV] max_depth=10, n_estimators=150, random_state=42 .................\n",
            "[CV] .. max_depth=10, n_estimators=150, random_state=42, total=   0.3s\n",
            "[CV] max_depth=10, n_estimators=150, random_state=100 ................\n",
            "[CV] . max_depth=10, n_estimators=150, random_state=100, total=   0.3s\n",
            "[CV] max_depth=10, n_estimators=150, random_state=100 ................\n",
            "[CV] . max_depth=10, n_estimators=150, random_state=100, total=   0.3s\n",
            "[CV] max_depth=10, n_estimators=150, random_state=100 ................\n",
            "[CV] . max_depth=10, n_estimators=150, random_state=100, total=   0.3s\n",
            "[CV] max_depth=10, n_estimators=150, random_state=100 ................\n",
            "[CV] . max_depth=10, n_estimators=150, random_state=100, total=   0.3s\n",
            "[CV] max_depth=10, n_estimators=150, random_state=100 ................\n",
            "[CV] . max_depth=10, n_estimators=150, random_state=100, total=   0.3s\n",
            "[CV] max_depth=10, n_estimators=200, random_state=20 .................\n",
            "[CV] .. max_depth=10, n_estimators=200, random_state=20, total=   0.4s\n",
            "[CV] max_depth=10, n_estimators=200, random_state=20 .................\n",
            "[CV] .. max_depth=10, n_estimators=200, random_state=20, total=   0.4s\n",
            "[CV] max_depth=10, n_estimators=200, random_state=20 .................\n",
            "[CV] .. max_depth=10, n_estimators=200, random_state=20, total=   0.4s\n",
            "[CV] max_depth=10, n_estimators=200, random_state=20 .................\n",
            "[CV] .. max_depth=10, n_estimators=200, random_state=20, total=   0.4s\n",
            "[CV] max_depth=10, n_estimators=200, random_state=20 .................\n",
            "[CV] .. max_depth=10, n_estimators=200, random_state=20, total=   0.4s\n",
            "[CV] max_depth=10, n_estimators=200, random_state=50 .................\n",
            "[CV] .. max_depth=10, n_estimators=200, random_state=50, total=   0.4s\n",
            "[CV] max_depth=10, n_estimators=200, random_state=50 .................\n",
            "[CV] .. max_depth=10, n_estimators=200, random_state=50, total=   0.4s\n",
            "[CV] max_depth=10, n_estimators=200, random_state=50 .................\n",
            "[CV] .. max_depth=10, n_estimators=200, random_state=50, total=   0.4s\n",
            "[CV] max_depth=10, n_estimators=200, random_state=50 .................\n",
            "[CV] .. max_depth=10, n_estimators=200, random_state=50, total=   0.4s\n",
            "[CV] max_depth=10, n_estimators=200, random_state=50 .................\n",
            "[CV] .. max_depth=10, n_estimators=200, random_state=50, total=   0.4s\n",
            "[CV] max_depth=10, n_estimators=200, random_state=42 .................\n",
            "[CV] .. max_depth=10, n_estimators=200, random_state=42, total=   0.4s\n",
            "[CV] max_depth=10, n_estimators=200, random_state=42 .................\n",
            "[CV] .. max_depth=10, n_estimators=200, random_state=42, total=   0.4s\n",
            "[CV] max_depth=10, n_estimators=200, random_state=42 .................\n",
            "[CV] .. max_depth=10, n_estimators=200, random_state=42, total=   0.4s\n",
            "[CV] max_depth=10, n_estimators=200, random_state=42 .................\n",
            "[CV] .. max_depth=10, n_estimators=200, random_state=42, total=   0.4s\n",
            "[CV] max_depth=10, n_estimators=200, random_state=42 .................\n",
            "[CV] .. max_depth=10, n_estimators=200, random_state=42, total=   0.4s\n",
            "[CV] max_depth=10, n_estimators=200, random_state=100 ................\n",
            "[CV] . max_depth=10, n_estimators=200, random_state=100, total=   0.4s\n",
            "[CV] max_depth=10, n_estimators=200, random_state=100 ................\n",
            "[CV] . max_depth=10, n_estimators=200, random_state=100, total=   0.4s\n",
            "[CV] max_depth=10, n_estimators=200, random_state=100 ................\n",
            "[CV] . max_depth=10, n_estimators=200, random_state=100, total=   0.4s\n",
            "[CV] max_depth=10, n_estimators=200, random_state=100 ................\n",
            "[CV] . max_depth=10, n_estimators=200, random_state=100, total=   0.4s\n",
            "[CV] max_depth=10, n_estimators=200, random_state=100 ................\n",
            "[CV] . max_depth=10, n_estimators=200, random_state=100, total=   0.4s\n",
            "[CV] max_depth=15, n_estimators=50, random_state=20 ..................\n",
            "[CV] ... max_depth=15, n_estimators=50, random_state=20, total=   0.1s\n",
            "[CV] max_depth=15, n_estimators=50, random_state=20 ..................\n",
            "[CV] ... max_depth=15, n_estimators=50, random_state=20, total=   0.1s\n",
            "[CV] max_depth=15, n_estimators=50, random_state=20 ..................\n",
            "[CV] ... max_depth=15, n_estimators=50, random_state=20, total=   0.1s\n",
            "[CV] max_depth=15, n_estimators=50, random_state=20 ..................\n",
            "[CV] ... max_depth=15, n_estimators=50, random_state=20, total=   0.1s\n",
            "[CV] max_depth=15, n_estimators=50, random_state=20 ..................\n",
            "[CV] ... max_depth=15, n_estimators=50, random_state=20, total=   0.1s\n",
            "[CV] max_depth=15, n_estimators=50, random_state=50 ..................\n",
            "[CV] ... max_depth=15, n_estimators=50, random_state=50, total=   0.1s\n",
            "[CV] max_depth=15, n_estimators=50, random_state=50 ..................\n",
            "[CV] ... max_depth=15, n_estimators=50, random_state=50, total=   0.1s\n",
            "[CV] max_depth=15, n_estimators=50, random_state=50 ..................\n",
            "[CV] ... max_depth=15, n_estimators=50, random_state=50, total=   0.1s\n",
            "[CV] max_depth=15, n_estimators=50, random_state=50 ..................\n",
            "[CV] ... max_depth=15, n_estimators=50, random_state=50, total=   0.1s\n",
            "[CV] max_depth=15, n_estimators=50, random_state=50 ..................\n",
            "[CV] ... max_depth=15, n_estimators=50, random_state=50, total=   0.1s\n",
            "[CV] max_depth=15, n_estimators=50, random_state=42 ..................\n",
            "[CV] ... max_depth=15, n_estimators=50, random_state=42, total=   0.1s\n",
            "[CV] max_depth=15, n_estimators=50, random_state=42 ..................\n",
            "[CV] ... max_depth=15, n_estimators=50, random_state=42, total=   0.1s\n",
            "[CV] max_depth=15, n_estimators=50, random_state=42 ..................\n",
            "[CV] ... max_depth=15, n_estimators=50, random_state=42, total=   0.1s\n",
            "[CV] max_depth=15, n_estimators=50, random_state=42 ..................\n",
            "[CV] ... max_depth=15, n_estimators=50, random_state=42, total=   0.1s\n",
            "[CV] max_depth=15, n_estimators=50, random_state=42 ..................\n",
            "[CV] ... max_depth=15, n_estimators=50, random_state=42, total=   0.1s\n",
            "[CV] max_depth=15, n_estimators=50, random_state=100 .................\n",
            "[CV] .. max_depth=15, n_estimators=50, random_state=100, total=   0.1s\n",
            "[CV] max_depth=15, n_estimators=50, random_state=100 .................\n",
            "[CV] .. max_depth=15, n_estimators=50, random_state=100, total=   0.1s\n",
            "[CV] max_depth=15, n_estimators=50, random_state=100 .................\n",
            "[CV] .. max_depth=15, n_estimators=50, random_state=100, total=   0.1s\n",
            "[CV] max_depth=15, n_estimators=50, random_state=100 .................\n",
            "[CV] .. max_depth=15, n_estimators=50, random_state=100, total=   0.1s\n",
            "[CV] max_depth=15, n_estimators=50, random_state=100 .................\n",
            "[CV] .. max_depth=15, n_estimators=50, random_state=100, total=   0.1s\n",
            "[CV] max_depth=15, n_estimators=100, random_state=20 .................\n",
            "[CV] .. max_depth=15, n_estimators=100, random_state=20, total=   0.2s\n",
            "[CV] max_depth=15, n_estimators=100, random_state=20 .................\n",
            "[CV] .. max_depth=15, n_estimators=100, random_state=20, total=   0.2s\n",
            "[CV] max_depth=15, n_estimators=100, random_state=20 .................\n",
            "[CV] .. max_depth=15, n_estimators=100, random_state=20, total=   0.2s\n",
            "[CV] max_depth=15, n_estimators=100, random_state=20 .................\n",
            "[CV] .. max_depth=15, n_estimators=100, random_state=20, total=   0.2s\n",
            "[CV] max_depth=15, n_estimators=100, random_state=20 .................\n",
            "[CV] .. max_depth=15, n_estimators=100, random_state=20, total=   0.2s\n",
            "[CV] max_depth=15, n_estimators=100, random_state=50 .................\n",
            "[CV] .. max_depth=15, n_estimators=100, random_state=50, total=   0.2s\n",
            "[CV] max_depth=15, n_estimators=100, random_state=50 .................\n",
            "[CV] .. max_depth=15, n_estimators=100, random_state=50, total=   0.2s\n",
            "[CV] max_depth=15, n_estimators=100, random_state=50 .................\n",
            "[CV] .. max_depth=15, n_estimators=100, random_state=50, total=   0.2s\n",
            "[CV] max_depth=15, n_estimators=100, random_state=50 .................\n",
            "[CV] .. max_depth=15, n_estimators=100, random_state=50, total=   0.2s\n",
            "[CV] max_depth=15, n_estimators=100, random_state=50 .................\n",
            "[CV] .. max_depth=15, n_estimators=100, random_state=50, total=   0.2s\n",
            "[CV] max_depth=15, n_estimators=100, random_state=42 .................\n",
            "[CV] .. max_depth=15, n_estimators=100, random_state=42, total=   0.2s\n",
            "[CV] max_depth=15, n_estimators=100, random_state=42 .................\n",
            "[CV] .. max_depth=15, n_estimators=100, random_state=42, total=   0.2s\n",
            "[CV] max_depth=15, n_estimators=100, random_state=42 .................\n",
            "[CV] .. max_depth=15, n_estimators=100, random_state=42, total=   0.2s\n",
            "[CV] max_depth=15, n_estimators=100, random_state=42 .................\n",
            "[CV] .. max_depth=15, n_estimators=100, random_state=42, total=   0.2s\n",
            "[CV] max_depth=15, n_estimators=100, random_state=42 .................\n",
            "[CV] .. max_depth=15, n_estimators=100, random_state=42, total=   0.2s\n",
            "[CV] max_depth=15, n_estimators=100, random_state=100 ................\n",
            "[CV] . max_depth=15, n_estimators=100, random_state=100, total=   0.2s\n",
            "[CV] max_depth=15, n_estimators=100, random_state=100 ................\n",
            "[CV] . max_depth=15, n_estimators=100, random_state=100, total=   0.2s\n",
            "[CV] max_depth=15, n_estimators=100, random_state=100 ................\n",
            "[CV] . max_depth=15, n_estimators=100, random_state=100, total=   0.2s\n",
            "[CV] max_depth=15, n_estimators=100, random_state=100 ................\n",
            "[CV] . max_depth=15, n_estimators=100, random_state=100, total=   0.2s\n",
            "[CV] max_depth=15, n_estimators=100, random_state=100 ................\n",
            "[CV] . max_depth=15, n_estimators=100, random_state=100, total=   0.2s\n",
            "[CV] max_depth=15, n_estimators=150, random_state=20 .................\n",
            "[CV] .. max_depth=15, n_estimators=150, random_state=20, total=   0.3s\n",
            "[CV] max_depth=15, n_estimators=150, random_state=20 .................\n",
            "[CV] .. max_depth=15, n_estimators=150, random_state=20, total=   0.3s\n",
            "[CV] max_depth=15, n_estimators=150, random_state=20 .................\n",
            "[CV] .. max_depth=15, n_estimators=150, random_state=20, total=   0.3s\n",
            "[CV] max_depth=15, n_estimators=150, random_state=20 .................\n",
            "[CV] .. max_depth=15, n_estimators=150, random_state=20, total=   0.3s\n",
            "[CV] max_depth=15, n_estimators=150, random_state=20 .................\n",
            "[CV] .. max_depth=15, n_estimators=150, random_state=20, total=   0.3s\n",
            "[CV] max_depth=15, n_estimators=150, random_state=50 .................\n",
            "[CV] .. max_depth=15, n_estimators=150, random_state=50, total=   0.3s\n",
            "[CV] max_depth=15, n_estimators=150, random_state=50 .................\n",
            "[CV] .. max_depth=15, n_estimators=150, random_state=50, total=   0.3s\n",
            "[CV] max_depth=15, n_estimators=150, random_state=50 .................\n",
            "[CV] .. max_depth=15, n_estimators=150, random_state=50, total=   0.3s\n",
            "[CV] max_depth=15, n_estimators=150, random_state=50 .................\n",
            "[CV] .. max_depth=15, n_estimators=150, random_state=50, total=   0.3s\n",
            "[CV] max_depth=15, n_estimators=150, random_state=50 .................\n",
            "[CV] .. max_depth=15, n_estimators=150, random_state=50, total=   0.3s\n",
            "[CV] max_depth=15, n_estimators=150, random_state=42 .................\n",
            "[CV] .. max_depth=15, n_estimators=150, random_state=42, total=   0.3s\n",
            "[CV] max_depth=15, n_estimators=150, random_state=42 .................\n",
            "[CV] .. max_depth=15, n_estimators=150, random_state=42, total=   0.3s\n",
            "[CV] max_depth=15, n_estimators=150, random_state=42 .................\n",
            "[CV] .. max_depth=15, n_estimators=150, random_state=42, total=   0.3s\n",
            "[CV] max_depth=15, n_estimators=150, random_state=42 .................\n",
            "[CV] .. max_depth=15, n_estimators=150, random_state=42, total=   0.3s\n",
            "[CV] max_depth=15, n_estimators=150, random_state=42 .................\n",
            "[CV] .. max_depth=15, n_estimators=150, random_state=42, total=   0.3s\n",
            "[CV] max_depth=15, n_estimators=150, random_state=100 ................\n",
            "[CV] . max_depth=15, n_estimators=150, random_state=100, total=   0.3s\n",
            "[CV] max_depth=15, n_estimators=150, random_state=100 ................\n",
            "[CV] . max_depth=15, n_estimators=150, random_state=100, total=   0.3s\n",
            "[CV] max_depth=15, n_estimators=150, random_state=100 ................\n",
            "[CV] . max_depth=15, n_estimators=150, random_state=100, total=   0.3s\n",
            "[CV] max_depth=15, n_estimators=150, random_state=100 ................\n",
            "[CV] . max_depth=15, n_estimators=150, random_state=100, total=   0.3s\n",
            "[CV] max_depth=15, n_estimators=150, random_state=100 ................\n",
            "[CV] . max_depth=15, n_estimators=150, random_state=100, total=   0.3s\n",
            "[CV] max_depth=15, n_estimators=200, random_state=20 .................\n",
            "[CV] .. max_depth=15, n_estimators=200, random_state=20, total=   0.4s\n",
            "[CV] max_depth=15, n_estimators=200, random_state=20 .................\n",
            "[CV] .. max_depth=15, n_estimators=200, random_state=20, total=   0.4s\n",
            "[CV] max_depth=15, n_estimators=200, random_state=20 .................\n",
            "[CV] .. max_depth=15, n_estimators=200, random_state=20, total=   0.4s\n",
            "[CV] max_depth=15, n_estimators=200, random_state=20 .................\n",
            "[CV] .. max_depth=15, n_estimators=200, random_state=20, total=   0.4s\n",
            "[CV] max_depth=15, n_estimators=200, random_state=20 .................\n",
            "[CV] .. max_depth=15, n_estimators=200, random_state=20, total=   0.4s\n",
            "[CV] max_depth=15, n_estimators=200, random_state=50 .................\n",
            "[CV] .. max_depth=15, n_estimators=200, random_state=50, total=   0.4s\n",
            "[CV] max_depth=15, n_estimators=200, random_state=50 .................\n",
            "[CV] .. max_depth=15, n_estimators=200, random_state=50, total=   0.4s\n",
            "[CV] max_depth=15, n_estimators=200, random_state=50 .................\n",
            "[CV] .. max_depth=15, n_estimators=200, random_state=50, total=   0.4s\n",
            "[CV] max_depth=15, n_estimators=200, random_state=50 .................\n",
            "[CV] .. max_depth=15, n_estimators=200, random_state=50, total=   0.4s\n",
            "[CV] max_depth=15, n_estimators=200, random_state=50 .................\n",
            "[CV] .. max_depth=15, n_estimators=200, random_state=50, total=   0.4s\n",
            "[CV] max_depth=15, n_estimators=200, random_state=42 .................\n",
            "[CV] .. max_depth=15, n_estimators=200, random_state=42, total=   0.4s\n",
            "[CV] max_depth=15, n_estimators=200, random_state=42 .................\n",
            "[CV] .. max_depth=15, n_estimators=200, random_state=42, total=   0.4s\n",
            "[CV] max_depth=15, n_estimators=200, random_state=42 .................\n",
            "[CV] .. max_depth=15, n_estimators=200, random_state=42, total=   0.4s\n",
            "[CV] max_depth=15, n_estimators=200, random_state=42 .................\n",
            "[CV] .. max_depth=15, n_estimators=200, random_state=42, total=   0.4s\n",
            "[CV] max_depth=15, n_estimators=200, random_state=42 .................\n",
            "[CV] .. max_depth=15, n_estimators=200, random_state=42, total=   0.4s\n",
            "[CV] max_depth=15, n_estimators=200, random_state=100 ................\n",
            "[CV] . max_depth=15, n_estimators=200, random_state=100, total=   0.4s\n",
            "[CV] max_depth=15, n_estimators=200, random_state=100 ................\n",
            "[CV] . max_depth=15, n_estimators=200, random_state=100, total=   0.4s\n",
            "[CV] max_depth=15, n_estimators=200, random_state=100 ................\n",
            "[CV] . max_depth=15, n_estimators=200, random_state=100, total=   0.4s\n",
            "[CV] max_depth=15, n_estimators=200, random_state=100 ................\n",
            "[CV] . max_depth=15, n_estimators=200, random_state=100, total=   0.4s\n",
            "[CV] max_depth=15, n_estimators=200, random_state=100 ................\n",
            "[CV] . max_depth=15, n_estimators=200, random_state=100, total=   0.4s\n",
            "[CV] max_depth=30, n_estimators=50, random_state=20 ..................\n",
            "[CV] ... max_depth=30, n_estimators=50, random_state=20, total=   0.1s\n",
            "[CV] max_depth=30, n_estimators=50, random_state=20 ..................\n",
            "[CV] ... max_depth=30, n_estimators=50, random_state=20, total=   0.1s\n",
            "[CV] max_depth=30, n_estimators=50, random_state=20 ..................\n",
            "[CV] ... max_depth=30, n_estimators=50, random_state=20, total=   0.1s\n",
            "[CV] max_depth=30, n_estimators=50, random_state=20 ..................\n",
            "[CV] ... max_depth=30, n_estimators=50, random_state=20, total=   0.1s\n",
            "[CV] max_depth=30, n_estimators=50, random_state=20 ..................\n",
            "[CV] ... max_depth=30, n_estimators=50, random_state=20, total=   0.1s\n",
            "[CV] max_depth=30, n_estimators=50, random_state=50 ..................\n",
            "[CV] ... max_depth=30, n_estimators=50, random_state=50, total=   0.1s\n",
            "[CV] max_depth=30, n_estimators=50, random_state=50 ..................\n",
            "[CV] ... max_depth=30, n_estimators=50, random_state=50, total=   0.1s\n",
            "[CV] max_depth=30, n_estimators=50, random_state=50 ..................\n",
            "[CV] ... max_depth=30, n_estimators=50, random_state=50, total=   0.1s\n",
            "[CV] max_depth=30, n_estimators=50, random_state=50 ..................\n",
            "[CV] ... max_depth=30, n_estimators=50, random_state=50, total=   0.1s\n",
            "[CV] max_depth=30, n_estimators=50, random_state=50 ..................\n",
            "[CV] ... max_depth=30, n_estimators=50, random_state=50, total=   0.1s\n",
            "[CV] max_depth=30, n_estimators=50, random_state=42 ..................\n",
            "[CV] ... max_depth=30, n_estimators=50, random_state=42, total=   0.1s\n",
            "[CV] max_depth=30, n_estimators=50, random_state=42 ..................\n",
            "[CV] ... max_depth=30, n_estimators=50, random_state=42, total=   0.1s\n",
            "[CV] max_depth=30, n_estimators=50, random_state=42 ..................\n",
            "[CV] ... max_depth=30, n_estimators=50, random_state=42, total=   0.1s\n",
            "[CV] max_depth=30, n_estimators=50, random_state=42 ..................\n",
            "[CV] ... max_depth=30, n_estimators=50, random_state=42, total=   0.1s\n",
            "[CV] max_depth=30, n_estimators=50, random_state=42 ..................\n",
            "[CV] ... max_depth=30, n_estimators=50, random_state=42, total=   0.1s\n",
            "[CV] max_depth=30, n_estimators=50, random_state=100 .................\n",
            "[CV] .. max_depth=30, n_estimators=50, random_state=100, total=   0.1s\n",
            "[CV] max_depth=30, n_estimators=50, random_state=100 .................\n",
            "[CV] .. max_depth=30, n_estimators=50, random_state=100, total=   0.1s\n",
            "[CV] max_depth=30, n_estimators=50, random_state=100 .................\n",
            "[CV] .. max_depth=30, n_estimators=50, random_state=100, total=   0.1s\n",
            "[CV] max_depth=30, n_estimators=50, random_state=100 .................\n",
            "[CV] .. max_depth=30, n_estimators=50, random_state=100, total=   0.1s\n",
            "[CV] max_depth=30, n_estimators=50, random_state=100 .................\n",
            "[CV] .. max_depth=30, n_estimators=50, random_state=100, total=   0.1s\n",
            "[CV] max_depth=30, n_estimators=100, random_state=20 .................\n",
            "[CV] .. max_depth=30, n_estimators=100, random_state=20, total=   0.2s\n",
            "[CV] max_depth=30, n_estimators=100, random_state=20 .................\n",
            "[CV] .. max_depth=30, n_estimators=100, random_state=20, total=   0.2s\n",
            "[CV] max_depth=30, n_estimators=100, random_state=20 .................\n",
            "[CV] .. max_depth=30, n_estimators=100, random_state=20, total=   0.2s\n",
            "[CV] max_depth=30, n_estimators=100, random_state=20 .................\n",
            "[CV] .. max_depth=30, n_estimators=100, random_state=20, total=   0.2s\n",
            "[CV] max_depth=30, n_estimators=100, random_state=20 .................\n",
            "[CV] .. max_depth=30, n_estimators=100, random_state=20, total=   0.2s\n",
            "[CV] max_depth=30, n_estimators=100, random_state=50 .................\n",
            "[CV] .. max_depth=30, n_estimators=100, random_state=50, total=   0.2s\n",
            "[CV] max_depth=30, n_estimators=100, random_state=50 .................\n",
            "[CV] .. max_depth=30, n_estimators=100, random_state=50, total=   0.2s\n",
            "[CV] max_depth=30, n_estimators=100, random_state=50 .................\n",
            "[CV] .. max_depth=30, n_estimators=100, random_state=50, total=   0.2s\n",
            "[CV] max_depth=30, n_estimators=100, random_state=50 .................\n",
            "[CV] .. max_depth=30, n_estimators=100, random_state=50, total=   0.2s\n",
            "[CV] max_depth=30, n_estimators=100, random_state=50 .................\n",
            "[CV] .. max_depth=30, n_estimators=100, random_state=50, total=   0.2s\n",
            "[CV] max_depth=30, n_estimators=100, random_state=42 .................\n",
            "[CV] .. max_depth=30, n_estimators=100, random_state=42, total=   0.2s\n",
            "[CV] max_depth=30, n_estimators=100, random_state=42 .................\n",
            "[CV] .. max_depth=30, n_estimators=100, random_state=42, total=   0.2s\n",
            "[CV] max_depth=30, n_estimators=100, random_state=42 .................\n",
            "[CV] .. max_depth=30, n_estimators=100, random_state=42, total=   0.2s\n",
            "[CV] max_depth=30, n_estimators=100, random_state=42 .................\n",
            "[CV] .. max_depth=30, n_estimators=100, random_state=42, total=   0.2s\n",
            "[CV] max_depth=30, n_estimators=100, random_state=42 .................\n",
            "[CV] .. max_depth=30, n_estimators=100, random_state=42, total=   0.2s\n",
            "[CV] max_depth=30, n_estimators=100, random_state=100 ................\n",
            "[CV] . max_depth=30, n_estimators=100, random_state=100, total=   0.2s\n",
            "[CV] max_depth=30, n_estimators=100, random_state=100 ................\n",
            "[CV] . max_depth=30, n_estimators=100, random_state=100, total=   0.2s\n",
            "[CV] max_depth=30, n_estimators=100, random_state=100 ................\n",
            "[CV] . max_depth=30, n_estimators=100, random_state=100, total=   0.2s\n",
            "[CV] max_depth=30, n_estimators=100, random_state=100 ................\n",
            "[CV] . max_depth=30, n_estimators=100, random_state=100, total=   0.2s\n",
            "[CV] max_depth=30, n_estimators=100, random_state=100 ................\n",
            "[CV] . max_depth=30, n_estimators=100, random_state=100, total=   0.2s\n",
            "[CV] max_depth=30, n_estimators=150, random_state=20 .................\n",
            "[CV] .. max_depth=30, n_estimators=150, random_state=20, total=   0.3s\n",
            "[CV] max_depth=30, n_estimators=150, random_state=20 .................\n",
            "[CV] .. max_depth=30, n_estimators=150, random_state=20, total=   0.3s\n",
            "[CV] max_depth=30, n_estimators=150, random_state=20 .................\n",
            "[CV] .. max_depth=30, n_estimators=150, random_state=20, total=   0.3s\n",
            "[CV] max_depth=30, n_estimators=150, random_state=20 .................\n",
            "[CV] .. max_depth=30, n_estimators=150, random_state=20, total=   0.3s\n",
            "[CV] max_depth=30, n_estimators=150, random_state=20 .................\n",
            "[CV] .. max_depth=30, n_estimators=150, random_state=20, total=   0.3s\n",
            "[CV] max_depth=30, n_estimators=150, random_state=50 .................\n",
            "[CV] .. max_depth=30, n_estimators=150, random_state=50, total=   0.3s\n",
            "[CV] max_depth=30, n_estimators=150, random_state=50 .................\n",
            "[CV] .. max_depth=30, n_estimators=150, random_state=50, total=   0.3s\n",
            "[CV] max_depth=30, n_estimators=150, random_state=50 .................\n",
            "[CV] .. max_depth=30, n_estimators=150, random_state=50, total=   0.3s\n",
            "[CV] max_depth=30, n_estimators=150, random_state=50 .................\n",
            "[CV] .. max_depth=30, n_estimators=150, random_state=50, total=   0.3s\n",
            "[CV] max_depth=30, n_estimators=150, random_state=50 .................\n",
            "[CV] .. max_depth=30, n_estimators=150, random_state=50, total=   0.3s\n",
            "[CV] max_depth=30, n_estimators=150, random_state=42 .................\n",
            "[CV] .. max_depth=30, n_estimators=150, random_state=42, total=   0.3s\n",
            "[CV] max_depth=30, n_estimators=150, random_state=42 .................\n",
            "[CV] .. max_depth=30, n_estimators=150, random_state=42, total=   0.3s\n",
            "[CV] max_depth=30, n_estimators=150, random_state=42 .................\n",
            "[CV] .. max_depth=30, n_estimators=150, random_state=42, total=   0.3s\n",
            "[CV] max_depth=30, n_estimators=150, random_state=42 .................\n",
            "[CV] .. max_depth=30, n_estimators=150, random_state=42, total=   0.3s\n",
            "[CV] max_depth=30, n_estimators=150, random_state=42 .................\n",
            "[CV] .. max_depth=30, n_estimators=150, random_state=42, total=   0.3s\n",
            "[CV] max_depth=30, n_estimators=150, random_state=100 ................\n",
            "[CV] . max_depth=30, n_estimators=150, random_state=100, total=   0.3s\n",
            "[CV] max_depth=30, n_estimators=150, random_state=100 ................\n",
            "[CV] . max_depth=30, n_estimators=150, random_state=100, total=   0.3s\n",
            "[CV] max_depth=30, n_estimators=150, random_state=100 ................\n",
            "[CV] . max_depth=30, n_estimators=150, random_state=100, total=   0.3s\n",
            "[CV] max_depth=30, n_estimators=150, random_state=100 ................\n",
            "[CV] . max_depth=30, n_estimators=150, random_state=100, total=   0.3s\n",
            "[CV] max_depth=30, n_estimators=150, random_state=100 ................\n",
            "[CV] . max_depth=30, n_estimators=150, random_state=100, total=   0.3s\n",
            "[CV] max_depth=30, n_estimators=200, random_state=20 .................\n",
            "[CV] .. max_depth=30, n_estimators=200, random_state=20, total=   0.4s\n",
            "[CV] max_depth=30, n_estimators=200, random_state=20 .................\n",
            "[CV] .. max_depth=30, n_estimators=200, random_state=20, total=   0.4s\n",
            "[CV] max_depth=30, n_estimators=200, random_state=20 .................\n",
            "[CV] .. max_depth=30, n_estimators=200, random_state=20, total=   0.4s\n",
            "[CV] max_depth=30, n_estimators=200, random_state=20 .................\n",
            "[CV] .. max_depth=30, n_estimators=200, random_state=20, total=   0.4s\n",
            "[CV] max_depth=30, n_estimators=200, random_state=20 .................\n",
            "[CV] .. max_depth=30, n_estimators=200, random_state=20, total=   0.4s\n",
            "[CV] max_depth=30, n_estimators=200, random_state=50 .................\n",
            "[CV] .. max_depth=30, n_estimators=200, random_state=50, total=   0.4s\n",
            "[CV] max_depth=30, n_estimators=200, random_state=50 .................\n",
            "[CV] .. max_depth=30, n_estimators=200, random_state=50, total=   0.4s\n",
            "[CV] max_depth=30, n_estimators=200, random_state=50 .................\n",
            "[CV] .. max_depth=30, n_estimators=200, random_state=50, total=   0.4s\n",
            "[CV] max_depth=30, n_estimators=200, random_state=50 .................\n",
            "[CV] .. max_depth=30, n_estimators=200, random_state=50, total=   0.4s\n",
            "[CV] max_depth=30, n_estimators=200, random_state=50 .................\n",
            "[CV] .. max_depth=30, n_estimators=200, random_state=50, total=   0.4s\n",
            "[CV] max_depth=30, n_estimators=200, random_state=42 .................\n",
            "[CV] .. max_depth=30, n_estimators=200, random_state=42, total=   0.4s\n",
            "[CV] max_depth=30, n_estimators=200, random_state=42 .................\n",
            "[CV] .. max_depth=30, n_estimators=200, random_state=42, total=   0.4s\n",
            "[CV] max_depth=30, n_estimators=200, random_state=42 .................\n",
            "[CV] .. max_depth=30, n_estimators=200, random_state=42, total=   0.4s\n",
            "[CV] max_depth=30, n_estimators=200, random_state=42 .................\n",
            "[CV] .. max_depth=30, n_estimators=200, random_state=42, total=   0.4s\n",
            "[CV] max_depth=30, n_estimators=200, random_state=42 .................\n",
            "[CV] .. max_depth=30, n_estimators=200, random_state=42, total=   0.4s\n",
            "[CV] max_depth=30, n_estimators=200, random_state=100 ................\n",
            "[CV] . max_depth=30, n_estimators=200, random_state=100, total=   0.4s\n",
            "[CV] max_depth=30, n_estimators=200, random_state=100 ................\n",
            "[CV] . max_depth=30, n_estimators=200, random_state=100, total=   0.4s\n",
            "[CV] max_depth=30, n_estimators=200, random_state=100 ................\n",
            "[CV] . max_depth=30, n_estimators=200, random_state=100, total=   0.4s\n",
            "[CV] max_depth=30, n_estimators=200, random_state=100 ................\n",
            "[CV] . max_depth=30, n_estimators=200, random_state=100, total=   0.4s\n",
            "[CV] max_depth=30, n_estimators=200, random_state=100 ................\n",
            "[CV] . max_depth=30, n_estimators=200, random_state=100, total=   0.4s\n"
          ],
          "name": "stdout"
        },
        {
          "output_type": "stream",
          "text": [
            "[Parallel(n_jobs=1)]: Done 400 out of 400 | elapsed:  1.5min finished\n"
          ],
          "name": "stderr"
        }
      ]
    },
    {
      "cell_type": "code",
      "metadata": {
        "colab": {
          "base_uri": "https://localhost:8080/"
        },
        "id": "Gr9JJSJpUMoR",
        "outputId": "958a87b4-272a-411c-da2c-7be25bf45663"
      },
      "source": [
        "grid.best_estimator_"
      ],
      "execution_count": 35,
      "outputs": [
        {
          "output_type": "execute_result",
          "data": {
            "text/plain": [
              "RandomForestRegressor(bootstrap=True, ccp_alpha=0.0, criterion='mse',\n",
              "                      max_depth=5, max_features='auto', max_leaf_nodes=None,\n",
              "                      max_samples=None, min_impurity_decrease=0.0,\n",
              "                      min_impurity_split=None, min_samples_leaf=1,\n",
              "                      min_samples_split=2, min_weight_fraction_leaf=0.0,\n",
              "                      n_estimators=200, n_jobs=None, oob_score=False,\n",
              "                      random_state=20, verbose=0, warm_start=False)"
            ]
          },
          "metadata": {
            "tags": []
          },
          "execution_count": 35
        }
      ]
    },
    {
      "cell_type": "code",
      "metadata": {
        "colab": {
          "base_uri": "https://localhost:8080/"
        },
        "id": "hd78KxAjUMrF",
        "outputId": "37d8b67c-c123-472f-e50f-21947c411ab4"
      },
      "source": [
        "grid.best_params_"
      ],
      "execution_count": 36,
      "outputs": [
        {
          "output_type": "execute_result",
          "data": {
            "text/plain": [
              "{'max_depth': 5, 'n_estimators': 200, 'random_state': 20}"
            ]
          },
          "metadata": {
            "tags": []
          },
          "execution_count": 36
        }
      ]
    },
    {
      "cell_type": "code",
      "metadata": {
        "colab": {
          "base_uri": "https://localhost:8080/"
        },
        "id": "82EANbudUMtv",
        "outputId": "abc9b11f-5e8a-4f53-8920-c48b49afec22"
      },
      "source": [
        "grid.best_score_"
      ],
      "execution_count": 37,
      "outputs": [
        {
          "output_type": "execute_result",
          "data": {
            "text/plain": [
              "0.8022553680351953"
            ]
          },
          "metadata": {
            "tags": []
          },
          "execution_count": 37
        }
      ]
    },
    {
      "cell_type": "code",
      "metadata": {
        "id": "KU6O61YbUMwo"
      },
      "source": [
        "resultados_cv = pd.DataFrame(grid.cv_results_)"
      ],
      "execution_count": 38,
      "outputs": []
    },
    {
      "cell_type": "code",
      "metadata": {
        "colab": {
          "base_uri": "https://localhost:8080/",
          "height": 559
        },
        "id": "XlrXyjL8bTlS",
        "outputId": "e0f8e770-5cd1-4f55-f602-bff60c9876a7"
      },
      "source": [
        "resultados_cv.head()"
      ],
      "execution_count": 39,
      "outputs": [
        {
          "output_type": "execute_result",
          "data": {
            "text/html": [
              "<div>\n",
              "<style scoped>\n",
              "    .dataframe tbody tr th:only-of-type {\n",
              "        vertical-align: middle;\n",
              "    }\n",
              "\n",
              "    .dataframe tbody tr th {\n",
              "        vertical-align: top;\n",
              "    }\n",
              "\n",
              "    .dataframe thead th {\n",
              "        text-align: right;\n",
              "    }\n",
              "</style>\n",
              "<table border=\"1\" class=\"dataframe\">\n",
              "  <thead>\n",
              "    <tr style=\"text-align: right;\">\n",
              "      <th></th>\n",
              "      <th>mean_fit_time</th>\n",
              "      <th>std_fit_time</th>\n",
              "      <th>mean_score_time</th>\n",
              "      <th>std_score_time</th>\n",
              "      <th>param_max_depth</th>\n",
              "      <th>param_n_estimators</th>\n",
              "      <th>param_random_state</th>\n",
              "      <th>params</th>\n",
              "      <th>split0_test_score</th>\n",
              "      <th>split1_test_score</th>\n",
              "      <th>split2_test_score</th>\n",
              "      <th>split3_test_score</th>\n",
              "      <th>split4_test_score</th>\n",
              "      <th>mean_test_score</th>\n",
              "      <th>std_test_score</th>\n",
              "      <th>rank_test_score</th>\n",
              "    </tr>\n",
              "  </thead>\n",
              "  <tbody>\n",
              "    <tr>\n",
              "      <th>0</th>\n",
              "      <td>0.076327</td>\n",
              "      <td>0.006219</td>\n",
              "      <td>0.006564</td>\n",
              "      <td>0.000707</td>\n",
              "      <td>3</td>\n",
              "      <td>50</td>\n",
              "      <td>20</td>\n",
              "      <td>{'max_depth': 3, 'n_estimators': 50, 'random_s...</td>\n",
              "      <td>0.796425</td>\n",
              "      <td>0.774049</td>\n",
              "      <td>0.726078</td>\n",
              "      <td>0.799428</td>\n",
              "      <td>0.718326</td>\n",
              "      <td>0.762861</td>\n",
              "      <td>0.034424</td>\n",
              "      <td>80</td>\n",
              "    </tr>\n",
              "    <tr>\n",
              "      <th>1</th>\n",
              "      <td>0.077508</td>\n",
              "      <td>0.003955</td>\n",
              "      <td>0.008392</td>\n",
              "      <td>0.003327</td>\n",
              "      <td>3</td>\n",
              "      <td>50</td>\n",
              "      <td>50</td>\n",
              "      <td>{'max_depth': 3, 'n_estimators': 50, 'random_s...</td>\n",
              "      <td>0.804299</td>\n",
              "      <td>0.783414</td>\n",
              "      <td>0.724927</td>\n",
              "      <td>0.803252</td>\n",
              "      <td>0.718532</td>\n",
              "      <td>0.766885</td>\n",
              "      <td>0.037667</td>\n",
              "      <td>66</td>\n",
              "    </tr>\n",
              "    <tr>\n",
              "      <th>2</th>\n",
              "      <td>0.076986</td>\n",
              "      <td>0.006670</td>\n",
              "      <td>0.006211</td>\n",
              "      <td>0.000355</td>\n",
              "      <td>3</td>\n",
              "      <td>50</td>\n",
              "      <td>42</td>\n",
              "      <td>{'max_depth': 3, 'n_estimators': 50, 'random_s...</td>\n",
              "      <td>0.803221</td>\n",
              "      <td>0.782842</td>\n",
              "      <td>0.727799</td>\n",
              "      <td>0.794451</td>\n",
              "      <td>0.711847</td>\n",
              "      <td>0.764032</td>\n",
              "      <td>0.037016</td>\n",
              "      <td>78</td>\n",
              "    </tr>\n",
              "    <tr>\n",
              "      <th>3</th>\n",
              "      <td>0.077309</td>\n",
              "      <td>0.004968</td>\n",
              "      <td>0.006250</td>\n",
              "      <td>0.000429</td>\n",
              "      <td>3</td>\n",
              "      <td>50</td>\n",
              "      <td>100</td>\n",
              "      <td>{'max_depth': 3, 'n_estimators': 50, 'random_s...</td>\n",
              "      <td>0.802550</td>\n",
              "      <td>0.775365</td>\n",
              "      <td>0.723566</td>\n",
              "      <td>0.803506</td>\n",
              "      <td>0.713712</td>\n",
              "      <td>0.763740</td>\n",
              "      <td>0.038313</td>\n",
              "      <td>79</td>\n",
              "    </tr>\n",
              "    <tr>\n",
              "      <th>4</th>\n",
              "      <td>0.152613</td>\n",
              "      <td>0.006756</td>\n",
              "      <td>0.010248</td>\n",
              "      <td>0.000574</td>\n",
              "      <td>3</td>\n",
              "      <td>100</td>\n",
              "      <td>20</td>\n",
              "      <td>{'max_depth': 3, 'n_estimators': 100, 'random_...</td>\n",
              "      <td>0.795368</td>\n",
              "      <td>0.778754</td>\n",
              "      <td>0.729460</td>\n",
              "      <td>0.799190</td>\n",
              "      <td>0.722381</td>\n",
              "      <td>0.765031</td>\n",
              "      <td>0.032741</td>\n",
              "      <td>76</td>\n",
              "    </tr>\n",
              "  </tbody>\n",
              "</table>\n",
              "</div>"
            ],
            "text/plain": [
              "   mean_fit_time  std_fit_time  ...  std_test_score  rank_test_score\n",
              "0       0.076327      0.006219  ...        0.034424               80\n",
              "1       0.077508      0.003955  ...        0.037667               66\n",
              "2       0.076986      0.006670  ...        0.037016               78\n",
              "3       0.077309      0.004968  ...        0.038313               79\n",
              "4       0.152613      0.006756  ...        0.032741               76\n",
              "\n",
              "[5 rows x 16 columns]"
            ]
          },
          "metadata": {
            "tags": []
          },
          "execution_count": 39
        }
      ]
    },
    {
      "cell_type": "markdown",
      "metadata": {
        "id": "DYLiRB2fbToS"
      },
      "source": [
        "# Versão alternativa do grid search"
      ]
    },
    {
      "cell_type": "code",
      "metadata": {
        "id": "b5VUyYTLbdsV"
      },
      "source": [
        "rf = RandomForestRegressor()"
      ],
      "execution_count": 41,
      "outputs": []
    },
    {
      "cell_type": "code",
      "metadata": {
        "id": "q8UVTyjMbdu1"
      },
      "source": [
        "# 42, 1, 100, 0 .... # vemos na próxima aula\n",
        "from sklearn.model_selection import GridSearchCV\n",
        "\n",
        "parametros = {'n_estimators':[10, 20, 50, 100],\n",
        "              'max_depth': [5, 10, 20],\n",
        "              'random_state': [5, 10, 42, 100, 200]}\n",
        "\n",
        "rfr_tunado = GridSearchCV(rf, parametros, verbose=1)"
      ],
      "execution_count": 42,
      "outputs": []
    },
    {
      "cell_type": "code",
      "metadata": {
        "colab": {
          "base_uri": "https://localhost:8080/"
        },
        "id": "q5__UQiDbdxH",
        "outputId": "09d3c2ad-60a2-48b9-f21c-e9d3fd8f531d"
      },
      "source": [
        "rfr_tunado.fit(X_treino, y_treino)"
      ],
      "execution_count": 43,
      "outputs": [
        {
          "output_type": "stream",
          "text": [
            "Fitting 5 folds for each of 60 candidates, totalling 300 fits\n"
          ],
          "name": "stdout"
        },
        {
          "output_type": "stream",
          "text": [
            "[Parallel(n_jobs=1)]: Using backend SequentialBackend with 1 concurrent workers.\n",
            "[Parallel(n_jobs=1)]: Done 300 out of 300 | elapsed:   24.6s finished\n"
          ],
          "name": "stderr"
        },
        {
          "output_type": "execute_result",
          "data": {
            "text/plain": [
              "GridSearchCV(cv=None, error_score=nan,\n",
              "             estimator=RandomForestRegressor(bootstrap=True, ccp_alpha=0.0,\n",
              "                                             criterion='mse', max_depth=None,\n",
              "                                             max_features='auto',\n",
              "                                             max_leaf_nodes=None,\n",
              "                                             max_samples=None,\n",
              "                                             min_impurity_decrease=0.0,\n",
              "                                             min_impurity_split=None,\n",
              "                                             min_samples_leaf=1,\n",
              "                                             min_samples_split=2,\n",
              "                                             min_weight_fraction_leaf=0.0,\n",
              "                                             n_estimators=100, n_jobs=None,\n",
              "                                             oob_score=False, random_state=None,\n",
              "                                             verbose=0, warm_start=False),\n",
              "             iid='deprecated', n_jobs=None,\n",
              "             param_grid={'max_depth': [5, 10, 20],\n",
              "                         'n_estimators': [10, 20, 50, 100],\n",
              "                         'random_state': [5, 10, 42, 100, 200]},\n",
              "             pre_dispatch='2*n_jobs', refit=True, return_train_score=False,\n",
              "             scoring=None, verbose=1)"
            ]
          },
          "metadata": {
            "tags": []
          },
          "execution_count": 43
        }
      ]
    },
    {
      "cell_type": "code",
      "metadata": {
        "colab": {
          "base_uri": "https://localhost:8080/"
        },
        "id": "9BEWTITsbj5G",
        "outputId": "96859a8e-e5f8-4c56-a8bd-bb4df1d51b88"
      },
      "source": [
        "rfr_tunado.best_params_"
      ],
      "execution_count": 44,
      "outputs": [
        {
          "output_type": "execute_result",
          "data": {
            "text/plain": [
              "{'max_depth': 5, 'n_estimators': 100, 'random_state': 5}"
            ]
          },
          "metadata": {
            "tags": []
          },
          "execution_count": 44
        }
      ]
    },
    {
      "cell_type": "code",
      "metadata": {
        "colab": {
          "base_uri": "https://localhost:8080/"
        },
        "id": "J7WIXihMbj8B",
        "outputId": "8da3550e-ff7c-4023-e895-4ec5dc81c6f4"
      },
      "source": [
        "rfr_tunado.best_score_"
      ],
      "execution_count": 45,
      "outputs": [
        {
          "output_type": "execute_result",
          "data": {
            "text/plain": [
              "0.8038876354292409"
            ]
          },
          "metadata": {
            "tags": []
          },
          "execution_count": 45
        }
      ]
    },
    {
      "cell_type": "markdown",
      "metadata": {
        "id": "X5mGwWlhiiv_"
      },
      "source": [
        "## 4. Salvando o modelo (exportando o modelo)"
      ]
    },
    {
      "cell_type": "code",
      "metadata": {
        "id": "9vlv1YhMilDP"
      },
      "source": [
        "import pickle"
      ],
      "execution_count": 46,
      "outputs": []
    },
    {
      "cell_type": "code",
      "metadata": {
        "id": "TGKEYoApinmn"
      },
      "source": [
        "pickle.dump(rfn, open('modelo_rf.pkl', 'wb')) # wb é de escrever o binário ou write binary "
      ],
      "execution_count": 47,
      "outputs": []
    },
    {
      "cell_type": "code",
      "metadata": {
        "id": "QVH5YTZ-ioIm"
      },
      "source": [
        "rfr = pickle.load(open('modelo_rf.pkl', 'rb')) # rb é de ler o binário ou read binary"
      ],
      "execution_count": 48,
      "outputs": []
    },
    {
      "cell_type": "code",
      "metadata": {
        "id": "PvquA7IZioLx"
      },
      "source": [
        "primeiro_el_teste = X_teste.values[0]"
      ],
      "execution_count": 49,
      "outputs": []
    },
    {
      "cell_type": "code",
      "metadata": {
        "colab": {
          "base_uri": "https://localhost:8080/"
        },
        "id": "5Bjm03m8ivuG",
        "outputId": "21895118-ae18-4b3c-f7d7-89028bbfa765"
      },
      "source": [
        "rfr.predict([primeiro_el_teste])"
      ],
      "execution_count": 50,
      "outputs": [
        {
          "output_type": "execute_result",
          "data": {
            "text/plain": [
              "array([7.34383086])"
            ]
          },
          "metadata": {
            "tags": []
          },
          "execution_count": 50
        }
      ]
    },
    {
      "cell_type": "code",
      "metadata": {
        "id": "qEZFUzCZiz3P"
      },
      "source": [
        "el_teste_verdadeiro = y_teste.values[0]"
      ],
      "execution_count": 51,
      "outputs": []
    },
    {
      "cell_type": "code",
      "metadata": {
        "colab": {
          "base_uri": "https://localhost:8080/"
        },
        "id": "TLm9Y0m5i0HO",
        "outputId": "3f7697a4-316a-4ca5-bcb2-1d9ab3e806f5"
      },
      "source": [
        "el_teste_verdadeiro"
      ],
      "execution_count": 52,
      "outputs": [
        {
          "output_type": "execute_result",
          "data": {
            "text/plain": [
              "7.518064181233077"
            ]
          },
          "metadata": {
            "tags": []
          },
          "execution_count": 52
        }
      ]
    },
    {
      "cell_type": "code",
      "metadata": {
        "colab": {
          "base_uri": "https://localhost:8080/"
        },
        "id": "gyNkEPyxi0J3",
        "outputId": "55bc664c-b1bf-44c8-c63c-007db8b5c035"
      },
      "source": [
        "from sklearn.ensemble import RandomForestRegressor\n",
        "\n",
        "rfn = RandomForestRegressor(random_state=100)\n",
        "\n",
        "rfn.fit(X_treino, y_treino)\n",
        "rfn.score(X_teste, y_teste)"
      ],
      "execution_count": 53,
      "outputs": [
        {
          "output_type": "execute_result",
          "data": {
            "text/plain": [
              "0.7339740032879546"
            ]
          },
          "metadata": {
            "tags": []
          },
          "execution_count": 53
        }
      ]
    },
    {
      "cell_type": "code",
      "metadata": {
        "id": "FiXtRHEii3zg"
      },
      "source": [
        "# dar um restart no runtime e ver se os scores continuam baixos ou melhoram\n",
        "# testar com outros hiperparâmetros\n",
        "# olhar nos plots de árvores para entender o que pode ter acontecido com a decisão"
      ],
      "execution_count": 54,
      "outputs": []
    },
    {
      "cell_type": "code",
      "metadata": {
        "id": "7rotQT5zcCzW"
      },
      "source": [
        ""
      ],
      "execution_count": null,
      "outputs": []
    }
  ]
}